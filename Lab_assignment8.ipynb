{
  "nbformat": 4,
  "nbformat_minor": 0,
  "metadata": {
    "colab": {
      "name": "Lab_assignment8.ipynb",
      "provenance": [],
      "authorship_tag": "ABX9TyOuztW6tIeoIdOiVY7IXj/r",
      "include_colab_link": true
    },
    "kernelspec": {
      "name": "python3",
      "display_name": "Python 3"
    },
    "language_info": {
      "name": "python"
    }
  },
  "cells": [
    {
      "cell_type": "markdown",
      "metadata": {
        "id": "view-in-github",
        "colab_type": "text"
      },
      "source": [
        "<a href=\"https://colab.research.google.com/github/oluwaseuno25/OLUWASEUN_INFO5502_-Summer2022/blob/main/Lab_assignment8.ipynb\" target=\"_parent\"><img src=\"https://colab.research.google.com/assets/colab-badge.svg\" alt=\"Open In Colab\"/></a>"
      ]
    },
    {
      "cell_type": "markdown",
      "source": [
        "(a) Hypothesis for the test is,\n",
        "HO : p = 5% = 0.05\n",
        "H1 : p > 0.05\n",
        "\n",
        "(b)The test to conduct is one sample test of proportions. The test statistic is given by:\n",
        "\n",
        "z = (p ̂- p_o)/√(p_o(1- p_o ) /n)\n",
        "n is sample size\n",
        "p̂ is observed proportion\n",
        "po is hypothesized probability\n",
        "z is test statistic\n",
        "\n",
        "Procedure:\n",
        "1. Set the Null hypothesis\n",
        "2.Determine the significance level\n",
        "3.Calculate the test statistics\n",
        "4.Determine the critical value (from critical value table)\n",
        "5. Set Rejection region\n",
        "6.Conclude by interpreting the result. If the test statistic falls in critical region, reject the null hypothesis.\n"
      ],
      "metadata": {
        "id": "UgId2gdxPIOc"
      }
    },
    {
      "cell_type": "code",
      "execution_count": 1,
      "metadata": {
        "colab": {
          "base_uri": "https://localhost:8080/"
        },
        "id": "UyDeG2-DOOvx",
        "outputId": "fccf835f-316b-449b-be48-d30db7e371bc"
      },
      "outputs": [
        {
          "output_type": "stream",
          "name": "stdout",
          "text": [
            "Please enter x: 46\n",
            "Please enter n: 384\n",
            "test statistics is:  4.211755389107901\n"
          ]
        }
      ],
      "source": [
        "import math\n",
        "x = float(input('Please enter x: '))\n",
        "n = float(input('Please enter n: '))\n",
        "p = x/n\n",
        "q = 1-p\n",
        "po = 0.05\n",
        "alpha = (p*q/n)\n",
        "z = (p - po)/math.sqrt(alpha)\n",
        "print(\"test statistics is: \", z )"
      ]
    },
    {
      "cell_type": "code",
      "source": [
        "# At significance level of 0.05, p-value at z score of 4.211 is <0.0001"
      ],
      "metadata": {
        "id": "CQYTbqivOcqD"
      },
      "execution_count": null,
      "outputs": []
    },
    {
      "cell_type": "code",
      "source": [
        "# Number 2\n",
        "C = [40.3, 55.0, 45.7, 43.3, 50.3, 45.9, 53.5, 43.0, 44.2, 44.0, 33.6, 55.1, 48.8, 50.4, 37.8, 60.3, 46.6, 47.4, 44.0]\n",
        "A = [20.0, 30.2, 2.2, 7.5, 4.4, 22.2, 16.6, 14.5, 21.4, 3.3, 10.0, 1.0, 4.4, 1.3, 8.1, 6.6, 7.8, 10.6, 10.6, 16.2, 14.5, 4.1, 15.8, 4.1, 2.4, 3.5, 8.5, 4.7, 18.4]\n",
        "# Sorting list of in ascending\n",
        "C.sort()\n",
        "print('Children = ', C)\n",
        "A.sort()\n",
        "print ('Adult = ', A)"
      ],
      "metadata": {
        "colab": {
          "base_uri": "https://localhost:8080/"
        },
        "id": "KEMKqZqjPqUL",
        "outputId": "3346c208-d62a-4de5-cd07-30865d29a380"
      },
      "execution_count": 2,
      "outputs": [
        {
          "output_type": "stream",
          "name": "stdout",
          "text": [
            "Children =  [33.6, 37.8, 40.3, 43.0, 43.3, 44.0, 44.0, 44.2, 45.7, 45.9, 46.6, 47.4, 48.8, 50.3, 50.4, 53.5, 55.0, 55.1, 60.3]\n",
            "Adult =  [1.0, 1.3, 2.2, 2.4, 3.3, 3.5, 4.1, 4.1, 4.4, 4.4, 4.7, 6.6, 7.5, 7.8, 8.1, 8.5, 10.0, 10.6, 10.6, 14.5, 14.5, 15.8, 16.2, 16.6, 18.4, 20.0, 21.4, 22.2, 30.2]\n"
          ]
        }
      ]
    }
  ]
}