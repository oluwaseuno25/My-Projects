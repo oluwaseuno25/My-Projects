{
  "nbformat": 4,
  "nbformat_minor": 0,
  "metadata": {
    "colab": {
      "name": "Lab_assignment8.ipynb",
      "provenance": [],
      "authorship_tag": "ABX9TyOGxO+VyPanRkR4+a0Hfv2A",
      "include_colab_link": true
    },
    "kernelspec": {
      "name": "python3",
      "display_name": "Python 3"
    },
    "language_info": {
      "name": "python"
    }
  },
  "cells": [
    {
      "cell_type": "markdown",
      "metadata": {
        "id": "view-in-github",
        "colab_type": "text"
      },
      "source": [
        "<a href=\"https://colab.research.google.com/github/oluwaseuno25/OLUWASEUN_INFO5502_-Summer2022/blob/main/Lab_assignment8.ipynb\" target=\"_parent\"><img src=\"https://colab.research.google.com/assets/colab-badge.svg\" alt=\"Open In Colab\"/></a>"
      ]
    },
    {
      "cell_type": "markdown",
      "source": [
        "(a) Hypothesis for the test is,\n",
        "HO : p = 5% = 0.05\n",
        "H1 : p > 0.05\n",
        "\n",
        "(b)The test to conduct is one sample test of proportions. The test statistic is given by:\n",
        "\n",
        "z = (p ̂- p_o)/√(p_o(1- p_o ) /n)\n",
        "n is sample size\n",
        "p̂ is observed proportion\n",
        "po is hypothesized probability\n",
        "z is test statistic\n",
        "\n",
        "Procedure:\n",
        "1. Set the Null hypothesis\n",
        "2.Determine the significance level\n",
        "3.Calculate the test statistics\n",
        "4.Determine the critical value (from critical value table)\n",
        "5. Set Rejection region\n",
        "6.Conclude by interpreting the result. If the test statistic falls in critical region, reject the null hypothesis.\n"
      ],
      "metadata": {
        "id": "UgId2gdxPIOc"
      }
    },
    {
      "cell_type": "code",
      "execution_count": 1,
      "metadata": {
        "colab": {
          "base_uri": "https://localhost:8080/"
        },
        "id": "UyDeG2-DOOvx",
        "outputId": "fccf835f-316b-449b-be48-d30db7e371bc"
      },
      "outputs": [
        {
          "output_type": "stream",
          "name": "stdout",
          "text": [
            "Please enter x: 46\n",
            "Please enter n: 384\n",
            "test statistics is:  4.211755389107901\n"
          ]
        }
      ],
      "source": [
        "import math\n",
        "x = float(input('Please enter x: '))\n",
        "n = float(input('Please enter n: '))\n",
        "p = x/n\n",
        "q = 1-p\n",
        "po = 0.05\n",
        "alpha = (p*q/n)\n",
        "z = (p - po)/math.sqrt(alpha)\n",
        "print(\"test statistics is: \", z )"
      ]
    },
    {
      "cell_type": "code",
      "source": [
        "# At significance level of 0.05, p-value at z score of 4.211 is <0.0001"
      ],
      "metadata": {
        "id": "CQYTbqivOcqD"
      },
      "execution_count": null,
      "outputs": []
    },
    {
      "cell_type": "code",
      "source": [
        "# Number 2\n",
        "C = [40.3, 55.0, 45.7, 43.3, 50.3, 45.9, 53.5, 43.0, 44.2, 44.0, 33.6, 55.1, 48.8, 50.4, 37.8, 60.3, 46.6, 47.4, 44.0]\n",
        "A = [20.0, 30.2, 2.2, 7.5, 4.4, 22.2, 16.6, 14.5, 21.4, 3.3, 10.0, 1.0, 4.4, 1.3, 8.1, 6.6, 7.8, 10.6, 10.6, 16.2, 14.5, 4.1, 15.8, 4.1, 2.4, 3.5, 8.5, 4.7, 18.4]\n",
        "# Sorting list of in ascending\n",
        "C.sort()\n",
        "print('Children = ', C)\n",
        "A.sort()\n",
        "print ('Adult = ', A)"
      ],
      "metadata": {
        "colab": {
          "base_uri": "https://localhost:8080/"
        },
        "id": "KEMKqZqjPqUL",
        "outputId": "3346c208-d62a-4de5-cd07-30865d29a380"
      },
      "execution_count": 2,
      "outputs": [
        {
          "output_type": "stream",
          "name": "stdout",
          "text": [
            "Children =  [33.6, 37.8, 40.3, 43.0, 43.3, 44.0, 44.0, 44.2, 45.7, 45.9, 46.6, 47.4, 48.8, 50.3, 50.4, 53.5, 55.0, 55.1, 60.3]\n",
            "Adult =  [1.0, 1.3, 2.2, 2.4, 3.3, 3.5, 4.1, 4.1, 4.4, 4.4, 4.7, 6.6, 7.5, 7.8, 8.1, 8.5, 10.0, 10.6, 10.6, 14.5, 14.5, 15.8, 16.2, 16.6, 18.4, 20.0, 21.4, 22.2, 30.2]\n"
          ]
        }
      ]
    },
    {
      "cell_type": "code",
      "source": [
        "import pandas as pd\n",
        "C = pd.Series([33.6, 37.8, 40.3, 43.0, 43.3, 44.0, 44.0, 44.2, 45.7, 45.9, 46.6, 47.4, 48.8, 50.3, 50.4, 53.5, 55.0, 55.1, 60.3])\n",
        "C.describe()\n",
        "print('Descriptive Statistics for Children', C.describe() )"
      ],
      "metadata": {
        "colab": {
          "base_uri": "https://localhost:8080/"
        },
        "id": "HRd-wNqknZFb",
        "outputId": "38ed9654-ad96-4f58-e011-0720bc679d7b"
      },
      "execution_count": 1,
      "outputs": [
        {
          "output_type": "stream",
          "name": "stdout",
          "text": [
            "Descriptive Statistics for Children count    19.000000\n",
            "mean     46.800000\n",
            "std       6.418376\n",
            "min      33.600000\n",
            "25%      43.650000\n",
            "50%      45.900000\n",
            "75%      50.350000\n",
            "max      60.300000\n",
            "dtype: float64\n"
          ]
        }
      ]
    },
    {
      "cell_type": "code",
      "source": [
        "C =[33.6, 37.8, 40.3, 43.0, 43.3, 44.0, 44.0, 44.2, 45.7, 45.9, 46.6, 47.4, 48.8, 50.3, 50.4, 53.5, 55.0, 55.1, 60.3]\n",
        "A =[1.0, 1.3, 2.2, 2.4, 3.3, 3.5, 4.1, 4.1, 4.4, 4.4, 4.7, 6.6, 7.5, 7.8, 8.1, 8.5, 10.0, 10.6, 10.6, 14.5, 14.5, 15.8, 16.2, 16.6, 18.4, 20.0, 21.4, 22.2, 30.2]"
      ],
      "metadata": {
        "id": "W5o0pysOnnKs"
      },
      "execution_count": 3,
      "outputs": []
    },
    {
      "cell_type": "code",
      "source": [
        "import matplotlib.pyplot as plt\n",
        "import numpy as np\n",
        "import pandas as pd\n",
        "import seaborn as sns\n",
        "\n",
        "plt.figure(figsize=(5, 8))\n",
        "sns.boxplot(data=A)\n",
        "sns.boxplot(data=C)"
      ],
      "metadata": {
        "colab": {
          "base_uri": "https://localhost:8080/",
          "height": 500
        },
        "id": "NGECNcrjnsrU",
        "outputId": "30186964-cfa6-4461-8fd9-53343f4b728d"
      },
      "execution_count": 4,
      "outputs": [
        {
          "output_type": "execute_result",
          "data": {
            "text/plain": [
              "<matplotlib.axes._subplots.AxesSubplot at 0x7f2be7911310>"
            ]
          },
          "metadata": {},
          "execution_count": 4
        },
        {
          "output_type": "display_data",
          "data": {
            "text/plain": [
              "<Figure size 360x576 with 1 Axes>"
            ],
            "image/png": "[encoded data removed]"
          },
          "metadata": {
            "needs_background": "light"
          }
        }
      ]
    },
    {
      "cell_type": "code",
      "source": [
        "# The percentage of weight of sugar content is high in children compare to adults as shown above"
      ],
      "metadata": {
        "id": "jSm_smkdn4oR"
      },
      "execution_count": null,
      "outputs": []
    },
    {
      "cell_type": "code",
      "source": [
        "import numpy as np\n",
        "import scipy.stats as st\n",
        "\n",
        "#define sample data\n",
        "C = [33.6, 37.8, 40.3, 43.0, 43.3, 44.0, 44.0, 44.2, 45.7, 45.9, 46.6, 47.4, 48.8, 50.3, 50.4, 53.5, 55.0, 55.1, 60.3]\n",
        "#create 95% confidence interval for population mean weight\n",
        "st.t.interval(alpha=0.95, df=len(C)-1, loc=np.mean(C), scale=st.sem(C)) \n",
        " \n",
        "(16.758, 24.042)"
      ],
      "metadata": {
        "colab": {
          "base_uri": "https://localhost:8080/"
        },
        "id": "QtBIBb9xn8JI",
        "outputId": "091dacc5-7798-40d4-f295-4f44f43ab736"
      },
      "execution_count": 6,
      "outputs": [
        {
          "output_type": "execute_result",
          "data": {
            "text/plain": [
              "(16.758, 24.042)"
            ]
          },
          "metadata": {},
          "execution_count": 6
        }
      ]
    },
    {
      "cell_type": "code",
      "source": [
        "# Interpretation of  this confidence interval\n",
        "# There is a 95% chance that the confidence interval of [16.758, 24.042] contains the true population mean sugar contents in Adults."
      ],
      "metadata": {
        "id": "LrIV3-XboCDX"
      },
      "execution_count": null,
      "outputs": []
    },
    {
      "cell_type": "code",
      "source": [
        "import numpy as np\n",
        "import scipy.stats as st\n",
        "\n",
        "#define sample data\n",
        "A =[1.0, 1.3, 2.2, 2.4, 3.3, 3.5, 4.1, 4.1, 4.4, 4.4, 4.7, 6.6, 7.5, 7.8, 8.1, 8.5, 10.0, 10.6, 10.6, 14.5, 14.5, 15.8, 16.2, 16.6, 18.4, 20.0, 21.4, 22.2, 30.2]\n",
        "#create 95% confidence interval for population mean weight\n",
        "st.t.interval(alpha=0.95, df=len(A)-1, loc=np.mean(A), scale=st.sem(A)) "
      ],
      "metadata": {
        "colab": {
          "base_uri": "https://localhost:8080/"
        },
        "id": "m_VqRJy6oGDs",
        "outputId": "8cf264e7-e1a8-44c5-b3e7-21553eb624aa"
      },
      "execution_count": 5,
      "outputs": [
        {
          "output_type": "execute_result",
          "data": {
            "text/plain": [
              "(7.325369007173679, 13.012562027309079)"
            ]
          },
          "metadata": {},
          "execution_count": 5
        }
      ]
    },
    {
      "cell_type": "code",
      "source": [
        "# Interpretation of  this confidence interval\n",
        "# There is a 95% chance that the confidence interval of [(7.325, 13.013] contains the true population mean sugar contents in Adults."
      ],
      "metadata": {
        "id": "Ut-2ZJUboK49"
      },
      "execution_count": null,
      "outputs": []
    }
  ]
}