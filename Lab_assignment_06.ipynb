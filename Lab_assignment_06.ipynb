{
  "nbformat": 4,
  "nbformat_minor": 0,
  "metadata": {
    "colab": {
      "name": "Lab_assignment_06.ipynb",
      "provenance": [],
      "authorship_tag": "ABX9TyOPMYTgSpKA2d3PHkbAzr5q",
      "include_colab_link": true
    },
    "kernelspec": {
      "name": "python3",
      "display_name": "Python 3"
    },
    "language_info": {
      "name": "python"
    }
  },
  "cells": [
    {
      "cell_type": "markdown",
      "metadata": {
        "id": "view-in-github",
        "colab_type": "text"
      },
      "source": [
        "<a href=\"https://colab.research.google.com/github/oluwaseuno25/OLUWASEUN_INFO5502_-Summer2022/blob/main/Lab_assignment_06.ipynb\" target=\"_parent\"><img src=\"https://colab.research.google.com/assets/colab-badge.svg\" alt=\"Open In Colab\"/></a>"
      ]
    },
    {
      "cell_type": "code",
      "source": [
        "#1\n",
        "import pandas as pd\n",
        "import numpy as np\n",
        "import csv as csv\n",
        "from datetime import datetime\n",
        "import matplotlib.pyplot as plt\n",
        "%matplotlib inline"
      ],
      "metadata": {
        "id": "U1slhTlYxXBe"
      },
      "execution_count": 2,
      "outputs": []
    },
    {
      "cell_type": "code",
      "source": [
        "\n",
        "# read the data and display the first 5 rows\n",
        "train_df = pd.read_csv('https://raw.githubusercontent.com/suthapalliuday/INFO5502-Summer2022/main/datasets/lab_assignment_06/train_luc.csv', header=0)\n",
        "print(\"\\nNumber of samples:\",train_df.shape[0],\"and number of features:\",train_df.shape[1],\"\\n\")\n",
        "train_df.head()"
      ],
      "metadata": {
        "colab": {
          "base_uri": "https://localhost:8080/",
          "height": 258
        },
        "id": "6sgZKLgNxc4a",
        "outputId": "c56ac2b5-27dd-4381-c1c3-ed20041682d9"
      },
      "execution_count": 3,
      "outputs": [
        {
          "output_type": "stream",
          "name": "stdout",
          "text": [
            "\n",
            "Number of samples: 9174 and number of features: 12 \n",
            "\n"
          ]
        },
        {
          "output_type": "execute_result",
          "data": {
            "text/plain": [
              "              datetime  season  holiday  workingday  weather  temp   atemp  \\\n",
              "0  2011-01-01 00:00:00       1        0           0        1  9.84  14.395   \n",
              "1  2011-01-01 01:00:00       1        0           0        1  9.02  13.635   \n",
              "2  2011-01-01 02:00:00       1        0           0        1  9.02  13.635   \n",
              "3  2011-01-01 03:00:00       1        0           0        1  9.84  14.395   \n",
              "4  2011-01-01 04:00:00       1        0           0        1  9.84  14.395   \n",
              "\n",
              "   humidity  windspeed  casual  registered  count  \n",
              "0        81        0.0       3          13     16  \n",
              "1        80        0.0       8          32     40  \n",
              "2        80        0.0       5          27     32  \n",
              "3        75        0.0       3          10     13  \n",
              "4        75        0.0       0           1      1  "
            ],
            "text/html": [
              "\n",
              "  <div id=\"df-1bd4f192-461c-46dd-8982-1e34a39caa3c\">\n",
              "    <div class=\"colab-df-container\">\n",
              "      <div>\n",
              "<style scoped>\n",
              "    .dataframe tbody tr th:only-of-type {\n",
              "        vertical-align: middle;\n",
              "    }\n",
              "\n",
              "    .dataframe tbody tr th {\n",
              "        vertical-align: top;\n",
              "    }\n",
              "\n",
              "    .dataframe thead th {\n",
              "        text-align: right;\n",
              "    }\n",
              "</style>\n",
              "<table border=\"1\" class=\"dataframe\">\n",
              "  <thead>\n",
              "    <tr style=\"text-align: right;\">\n",
              "      <th></th>\n",
              "      <th>datetime</th>\n",
              "      <th>season</th>\n",
              "      <th>holiday</th>\n",
              "      <th>workingday</th>\n",
              "      <th>weather</th>\n",
              "      <th>temp</th>\n",
              "      <th>atemp</th>\n",
              "      <th>humidity</th>\n",
              "      <th>windspeed</th>\n",
              "      <th>casual</th>\n",
              "      <th>registered</th>\n",
              "      <th>count</th>\n",
              "    </tr>\n",
              "  </thead>\n",
              "  <tbody>\n",
              "    <tr>\n",
              "      <th>0</th>\n",
              "      <td>2011-01-01 00:00:00</td>\n",
              "      <td>1</td>\n",
              "      <td>0</td>\n",
              "      <td>0</td>\n",
              "      <td>1</td>\n",
              "      <td>9.84</td>\n",
              "      <td>14.395</td>\n",
              "      <td>81</td>\n",
              "      <td>0.0</td>\n",
              "      <td>3</td>\n",
              "      <td>13</td>\n",
              "      <td>16</td>\n",
              "    </tr>\n",
              "    <tr>\n",
              "      <th>1</th>\n",
              "      <td>2011-01-01 01:00:00</td>\n",
              "      <td>1</td>\n",
              "      <td>0</td>\n",
              "      <td>0</td>\n",
              "      <td>1</td>\n",
              "      <td>9.02</td>\n",
              "      <td>13.635</td>\n",
              "      <td>80</td>\n",
              "      <td>0.0</td>\n",
              "      <td>8</td>\n",
              "      <td>32</td>\n",
              "      <td>40</td>\n",
              "    </tr>\n",
              "    <tr>\n",
              "      <th>2</th>\n",
              "      <td>2011-01-01 02:00:00</td>\n",
              "      <td>1</td>\n",
              "      <td>0</td>\n",
              "      <td>0</td>\n",
              "      <td>1</td>\n",
              "      <td>9.02</td>\n",
              "      <td>13.635</td>\n",
              "      <td>80</td>\n",
              "      <td>0.0</td>\n",
              "      <td>5</td>\n",
              "      <td>27</td>\n",
              "      <td>32</td>\n",
              "    </tr>\n",
              "    <tr>\n",
              "      <th>3</th>\n",
              "      <td>2011-01-01 03:00:00</td>\n",
              "      <td>1</td>\n",
              "      <td>0</td>\n",
              "      <td>0</td>\n",
              "      <td>1</td>\n",
              "      <td>9.84</td>\n",
              "      <td>14.395</td>\n",
              "      <td>75</td>\n",
              "      <td>0.0</td>\n",
              "      <td>3</td>\n",
              "      <td>10</td>\n",
              "      <td>13</td>\n",
              "    </tr>\n",
              "    <tr>\n",
              "      <th>4</th>\n",
              "      <td>2011-01-01 04:00:00</td>\n",
              "      <td>1</td>\n",
              "      <td>0</td>\n",
              "      <td>0</td>\n",
              "      <td>1</td>\n",
              "      <td>9.84</td>\n",
              "      <td>14.395</td>\n",
              "      <td>75</td>\n",
              "      <td>0.0</td>\n",
              "      <td>0</td>\n",
              "      <td>1</td>\n",
              "      <td>1</td>\n",
              "    </tr>\n",
              "  </tbody>\n",
              "</table>\n",
              "</div>\n",
              "      <button class=\"colab-df-convert\" onclick=\"convertToInteractive('df-1bd4f192-461c-46dd-8982-1e34a39caa3c')\"\n",
              "              title=\"Convert this dataframe to an interactive table.\"\n",
              "              style=\"display:none;\">\n",
              "        \n",
              "  <svg xmlns=\"http://www.w3.org/2000/svg\" height=\"24px\"viewBox=\"0 0 24 24\"\n",
              "       width=\"24px\">\n",
              "    <path d=\"M0 0h24v24H0V0z\" fill=\"none\"/>\n",
              "    <path d=\"M18.56 5.44l.94 2.06.94-2.06 2.06-.94-2.06-.94-.94-2.06-.94 2.06-2.06.94zm-11 1L8.5 8.5l.94-2.06 2.06-.94-2.06-.94L8.5 2.5l-.94 2.06-2.06.94zm10 10l.94 2.06.94-2.06 2.06-.94-2.06-.94-.94-2.06-.94 2.06-2.06.94z\"/><path d=\"M17.41 7.96l-1.37-1.37c-.4-.4-.92-.59-1.43-.59-.52 0-1.04.2-1.43.59L10.3 9.45l-7.72 7.72c-.78.78-.78 2.05 0 2.83L4 21.41c.39.39.9.59 1.41.59.51 0 1.02-.2 1.41-.59l7.78-7.78 2.81-2.81c.8-.78.8-2.07 0-2.86zM5.41 20L4 18.59l7.72-7.72 1.47 1.35L5.41 20z\"/>\n",
              "  </svg>\n",
              "      </button>\n",
              "      \n",
              "  <style>\n",
              "    .colab-df-container {\n",
              "      display:flex;\n",
              "      flex-wrap:wrap;\n",
              "      gap: 12px;\n",
              "    }\n",
              "\n",
              "    .colab-df-convert {\n",
              "      background-color: #E8F0FE;\n",
              "      border: none;\n",
              "      border-radius: 50%;\n",
              "      cursor: pointer;\n",
              "      display: none;\n",
              "      fill: #1967D2;\n",
              "      height: 32px;\n",
              "      padding: 0 0 0 0;\n",
              "      width: 32px;\n",
              "    }\n",
              "\n",
              "    .colab-df-convert:hover {\n",
              "      background-color: #E2EBFA;\n",
              "      box-shadow: 0px 1px 2px rgba(60, 64, 67, 0.3), 0px 1px 3px 1px rgba(60, 64, 67, 0.15);\n",
              "      fill: #174EA6;\n",
              "    }\n",
              "\n",
              "    [theme=dark] .colab-df-convert {\n",
              "      background-color: #3B4455;\n",
              "      fill: #D2E3FC;\n",
              "    }\n",
              "\n",
              "    [theme=dark] .colab-df-convert:hover {\n",
              "      background-color: #434B5C;\n",
              "      box-shadow: 0px 1px 3px 1px rgba(0, 0, 0, 0.15);\n",
              "      filter: drop-shadow(0px 1px 2px rgba(0, 0, 0, 0.3));\n",
              "      fill: #FFFFFF;\n",
              "    }\n",
              "  </style>\n",
              "\n",
              "      <script>\n",
              "        const buttonEl =\n",
              "          document.querySelector('#df-1bd4f192-461c-46dd-8982-1e34a39caa3c button.colab-df-convert');\n",
              "        buttonEl.style.display =\n",
              "          google.colab.kernel.accessAllowed ? 'block' : 'none';\n",
              "\n",
              "        async function convertToInteractive(key) {\n",
              "          const element = document.querySelector('#df-1bd4f192-461c-46dd-8982-1e34a39caa3c');\n",
              "          const dataTable =\n",
              "            await google.colab.kernel.invokeFunction('convertToInteractive',\n",
              "                                                     [key], {});\n",
              "          if (!dataTable) return;\n",
              "\n",
              "          const docLinkHtml = 'Like what you see? Visit the ' +\n",
              "            '<a target=\"_blank\" href=https://colab.research.google.com/notebooks/data_table.ipynb>data table notebook</a>'\n",
              "            + ' to learn more about interactive tables.';\n",
              "          element.innerHTML = '';\n",
              "          dataTable['output_type'] = 'display_data';\n",
              "          await google.colab.output.renderOutput(dataTable, element);\n",
              "          const docLink = document.createElement('div');\n",
              "          docLink.innerHTML = docLinkHtml;\n",
              "          element.appendChild(docLink);\n",
              "        }\n",
              "      </script>\n",
              "    </div>\n",
              "  </div>\n",
              "  "
            ]
          },
          "metadata": {},
          "execution_count": 3
        }
      ]
    },
    {
      "cell_type": "code",
      "source": [
        "train_df.describe()\n",
        "\n",
        "\n",
        "def hour_of_day(dt):\n",
        "    return datetime.strptime(dt, \"%Y-%m-%d %H:%M:%S\").time().hour\n",
        "train_df['hour'] = train_df['datetime'].map(hour_of_day)\n",
        "train_df.head()"
      ],
      "metadata": {
        "colab": {
          "base_uri": "https://localhost:8080/",
          "height": 206
        },
        "id": "JjTrtj9gxrAa",
        "outputId": "f5116ee8-acb6-48a7-d9fc-689ef45a5cd7"
      },
      "execution_count": 4,
      "outputs": [
        {
          "output_type": "execute_result",
          "data": {
            "text/plain": [
              "              datetime  season  holiday  workingday  weather  temp   atemp  \\\n",
              "0  2011-01-01 00:00:00       1        0           0        1  9.84  14.395   \n",
              "1  2011-01-01 01:00:00       1        0           0        1  9.02  13.635   \n",
              "2  2011-01-01 02:00:00       1        0           0        1  9.02  13.635   \n",
              "3  2011-01-01 03:00:00       1        0           0        1  9.84  14.395   \n",
              "4  2011-01-01 04:00:00       1        0           0        1  9.84  14.395   \n",
              "\n",
              "   humidity  windspeed  casual  registered  count  hour  \n",
              "0        81        0.0       3          13     16     0  \n",
              "1        80        0.0       8          32     40     1  \n",
              "2        80        0.0       5          27     32     2  \n",
              "3        75        0.0       3          10     13     3  \n",
              "4        75        0.0       0           1      1     4  "
            ],
            "text/html": [
              "\n",
              "  <div id=\"df-161efc2e-cebf-40d4-ba37-2db527dd387a\">\n",
              "    <div class=\"colab-df-container\">\n",
              "      <div>\n",
              "<style scoped>\n",
              "    .dataframe tbody tr th:only-of-type {\n",
              "        vertical-align: middle;\n",
              "    }\n",
              "\n",
              "    .dataframe tbody tr th {\n",
              "        vertical-align: top;\n",
              "    }\n",
              "\n",
              "    .dataframe thead th {\n",
              "        text-align: right;\n",
              "    }\n",
              "</style>\n",
              "<table border=\"1\" class=\"dataframe\">\n",
              "  <thead>\n",
              "    <tr style=\"text-align: right;\">\n",
              "      <th></th>\n",
              "      <th>datetime</th>\n",
              "      <th>season</th>\n",
              "      <th>holiday</th>\n",
              "      <th>workingday</th>\n",
              "      <th>weather</th>\n",
              "      <th>temp</th>\n",
              "      <th>atemp</th>\n",
              "      <th>humidity</th>\n",
              "      <th>windspeed</th>\n",
              "      <th>casual</th>\n",
              "      <th>registered</th>\n",
              "      <th>count</th>\n",
              "      <th>hour</th>\n",
              "    </tr>\n",
              "  </thead>\n",
              "  <tbody>\n",
              "    <tr>\n",
              "      <th>0</th>\n",
              "      <td>2011-01-01 00:00:00</td>\n",
              "      <td>1</td>\n",
              "      <td>0</td>\n",
              "      <td>0</td>\n",
              "      <td>1</td>\n",
              "      <td>9.84</td>\n",
              "      <td>14.395</td>\n",
              "      <td>81</td>\n",
              "      <td>0.0</td>\n",
              "      <td>3</td>\n",
              "      <td>13</td>\n",
              "      <td>16</td>\n",
              "      <td>0</td>\n",
              "    </tr>\n",
              "    <tr>\n",
              "      <th>1</th>\n",
              "      <td>2011-01-01 01:00:00</td>\n",
              "      <td>1</td>\n",
              "      <td>0</td>\n",
              "      <td>0</td>\n",
              "      <td>1</td>\n",
              "      <td>9.02</td>\n",
              "      <td>13.635</td>\n",
              "      <td>80</td>\n",
              "      <td>0.0</td>\n",
              "      <td>8</td>\n",
              "      <td>32</td>\n",
              "      <td>40</td>\n",
              "      <td>1</td>\n",
              "    </tr>\n",
              "    <tr>\n",
              "      <th>2</th>\n",
              "      <td>2011-01-01 02:00:00</td>\n",
              "      <td>1</td>\n",
              "      <td>0</td>\n",
              "      <td>0</td>\n",
              "      <td>1</td>\n",
              "      <td>9.02</td>\n",
              "      <td>13.635</td>\n",
              "      <td>80</td>\n",
              "      <td>0.0</td>\n",
              "      <td>5</td>\n",
              "      <td>27</td>\n",
              "      <td>32</td>\n",
              "      <td>2</td>\n",
              "    </tr>\n",
              "    <tr>\n",
              "      <th>3</th>\n",
              "      <td>2011-01-01 03:00:00</td>\n",
              "      <td>1</td>\n",
              "      <td>0</td>\n",
              "      <td>0</td>\n",
              "      <td>1</td>\n",
              "      <td>9.84</td>\n",
              "      <td>14.395</td>\n",
              "      <td>75</td>\n",
              "      <td>0.0</td>\n",
              "      <td>3</td>\n",
              "      <td>10</td>\n",
              "      <td>13</td>\n",
              "      <td>3</td>\n",
              "    </tr>\n",
              "    <tr>\n",
              "      <th>4</th>\n",
              "      <td>2011-01-01 04:00:00</td>\n",
              "      <td>1</td>\n",
              "      <td>0</td>\n",
              "      <td>0</td>\n",
              "      <td>1</td>\n",
              "      <td>9.84</td>\n",
              "      <td>14.395</td>\n",
              "      <td>75</td>\n",
              "      <td>0.0</td>\n",
              "      <td>0</td>\n",
              "      <td>1</td>\n",
              "      <td>1</td>\n",
              "      <td>4</td>\n",
              "    </tr>\n",
              "  </tbody>\n",
              "</table>\n",
              "</div>\n",
              "      <button class=\"colab-df-convert\" onclick=\"convertToInteractive('df-161efc2e-cebf-40d4-ba37-2db527dd387a')\"\n",
              "              title=\"Convert this dataframe to an interactive table.\"\n",
              "              style=\"display:none;\">\n",
              "        \n",
              "  <svg xmlns=\"http://www.w3.org/2000/svg\" height=\"24px\"viewBox=\"0 0 24 24\"\n",
              "       width=\"24px\">\n",
              "    <path d=\"M0 0h24v24H0V0z\" fill=\"none\"/>\n",
              "    <path d=\"M18.56 5.44l.94 2.06.94-2.06 2.06-.94-2.06-.94-.94-2.06-.94 2.06-2.06.94zm-11 1L8.5 8.5l.94-2.06 2.06-.94-2.06-.94L8.5 2.5l-.94 2.06-2.06.94zm10 10l.94 2.06.94-2.06 2.06-.94-2.06-.94-.94-2.06-.94 2.06-2.06.94z\"/><path d=\"M17.41 7.96l-1.37-1.37c-.4-.4-.92-.59-1.43-.59-.52 0-1.04.2-1.43.59L10.3 9.45l-7.72 7.72c-.78.78-.78 2.05 0 2.83L4 21.41c.39.39.9.59 1.41.59.51 0 1.02-.2 1.41-.59l7.78-7.78 2.81-2.81c.8-.78.8-2.07 0-2.86zM5.41 20L4 18.59l7.72-7.72 1.47 1.35L5.41 20z\"/>\n",
              "  </svg>\n",
              "      </button>\n",
              "      \n",
              "  <style>\n",
              "    .colab-df-container {\n",
              "      display:flex;\n",
              "      flex-wrap:wrap;\n",
              "      gap: 12px;\n",
              "    }\n",
              "\n",
              "    .colab-df-convert {\n",
              "      background-color: #E8F0FE;\n",
              "      border: none;\n",
              "      border-radius: 50%;\n",
              "      cursor: pointer;\n",
              "      display: none;\n",
              "      fill: #1967D2;\n",
              "      height: 32px;\n",
              "      padding: 0 0 0 0;\n",
              "      width: 32px;\n",
              "    }\n",
              "\n",
              "    .colab-df-convert:hover {\n",
              "      background-color: #E2EBFA;\n",
              "      box-shadow: 0px 1px 2px rgba(60, 64, 67, 0.3), 0px 1px 3px 1px rgba(60, 64, 67, 0.15);\n",
              "      fill: #174EA6;\n",
              "    }\n",
              "\n",
              "    [theme=dark] .colab-df-convert {\n",
              "      background-color: #3B4455;\n",
              "      fill: #D2E3FC;\n",
              "    }\n",
              "\n",
              "    [theme=dark] .colab-df-convert:hover {\n",
              "      background-color: #434B5C;\n",
              "      box-shadow: 0px 1px 3px 1px rgba(0, 0, 0, 0.15);\n",
              "      filter: drop-shadow(0px 1px 2px rgba(0, 0, 0, 0.3));\n",
              "      fill: #FFFFFF;\n",
              "    }\n",
              "  </style>\n",
              "\n",
              "      <script>\n",
              "        const buttonEl =\n",
              "          document.querySelector('#df-161efc2e-cebf-40d4-ba37-2db527dd387a button.colab-df-convert');\n",
              "        buttonEl.style.display =\n",
              "          google.colab.kernel.accessAllowed ? 'block' : 'none';\n",
              "\n",
              "        async function convertToInteractive(key) {\n",
              "          const element = document.querySelector('#df-161efc2e-cebf-40d4-ba37-2db527dd387a');\n",
              "          const dataTable =\n",
              "            await google.colab.kernel.invokeFunction('convertToInteractive',\n",
              "                                                     [key], {});\n",
              "          if (!dataTable) return;\n",
              "\n",
              "          const docLinkHtml = 'Like what you see? Visit the ' +\n",
              "            '<a target=\"_blank\" href=https://colab.research.google.com/notebooks/data_table.ipynb>data table notebook</a>'\n",
              "            + ' to learn more about interactive tables.';\n",
              "          element.innerHTML = '';\n",
              "          dataTable['output_type'] = 'display_data';\n",
              "          await google.colab.output.renderOutput(dataTable, element);\n",
              "          const docLink = document.createElement('div');\n",
              "          docLink.innerHTML = docLinkHtml;\n",
              "          element.appendChild(docLink);\n",
              "        }\n",
              "      </script>\n",
              "    </div>\n",
              "  </div>\n",
              "  "
            ]
          },
          "metadata": {},
          "execution_count": 4
        }
      ]
    },
    {
      "cell_type": "code",
      "source": [
        "hours = np.unique(train_df['hour'])\n",
        "print(\"hours:\",hours)\n",
        "\n",
        "hours = np.unique(train_df['hour'])\n",
        "print(\"hours:\",hours)\n",
        "\n",
        "hours_mean = {}\n",
        "for h in hours:\n",
        "    temp_df = train_df.loc[train_df['hour'] == h]\n",
        "    hours_mean[h] = temp_df['count'].mean()"
      ],
      "metadata": {
        "colab": {
          "base_uri": "https://localhost:8080/"
        },
        "id": "6WCz_KokxxQb",
        "outputId": "de0e71d0-aaa6-4297-a71a-407fa0fd25ea"
      },
      "execution_count": 5,
      "outputs": [
        {
          "output_type": "stream",
          "name": "stdout",
          "text": [
            "hours: [ 0  1  2  3  4  5  6  7  8  9 10 11 12 13 14 15 16 17 18 19 20 21 22 23]\n",
            "hours: [ 0  1  2  3  4  5  6  7  8  9 10 11 12 13 14 15 16 17 18 19 20 21 22 23]\n"
          ]
        }
      ]
    },
    {
      "cell_type": "code",
      "source": [
        "# plot the results. Maybe should see peaks from bike commuting or evening use\n",
        "plt.bar(hours,[hours_mean[h] for h in hours])\n",
        "plt.xlabel(\"hour\")\n",
        "plt.ylabel(\"average number of bikes used\")\n",
        "plt.title(\"Measured bike use over 2 years\")"
      ],
      "metadata": {
        "colab": {
          "base_uri": "https://localhost:8080/",
          "height": 312
        },
        "id": "b2ciYwVkx7Wo",
        "outputId": "ea030d9d-1c46-48f8-cbce-39e75b425c8b"
      },
      "execution_count": 6,
      "outputs": [
        {
          "output_type": "execute_result",
          "data": {
            "text/plain": [
              "Text(0.5, 1.0, 'Measured bike use over 2 years')"
            ]
          },
          "metadata": {},
          "execution_count": 6
        },
        {
          "output_type": "display_data",
          "data": {
            "text/plain": [
              "<Figure size 432x288 with 1 Axes>"
            ],
            "image/png": "[encoded data removed]"
          },
          "metadata": {
            "needs_background": "light"
          }
        }
      ]
    },
    {
      "cell_type": "code",
      "source": [
        "# PICK THE FEATURES AND MODEL\n",
        "# pick your features\n",
        "cols = ['hour'] # clearly a simple model\n",
        "# try more features later, like...\n",
        "# cols = ['hour','season']\n",
        "\n",
        "# pick your model (you should consider adjusting optional parameters too)\n",
        "# reading in a few models we can pick from (there are many others)\n",
        "from sklearn.tree import DecisionTreeRegressor\n",
        "from sklearn.linear_model import LinearRegression\n",
        "from sklearn.neighbors import KNeighborsRegressor\n",
        "from sklearn.svm import LinearSVR\n",
        "from sklearn.ensemble import RandomForestRegressor"
      ],
      "metadata": {
        "id": "as4p6JYsx_pT"
      },
      "execution_count": 7,
      "outputs": []
    },
    {
      "cell_type": "code",
      "source": [
        "#pick one by commenting/uncommenting\n",
        "model = DecisionTreeRegressor()\n",
        "#model = LinearRegression()\n",
        "#model = KNeighborsRegressor(n_neighbors = 5)\n",
        "#model = svm.LinearSVR()\n",
        "#model = RandomForestRegressor(n_estimators = 1)\n",
        "\n",
        "print(\"columns selected for later:\",cols)\n",
        "print(model) # to get an idea of parameters and confirm model chosensen"
      ],
      "metadata": {
        "colab": {
          "base_uri": "https://localhost:8080/"
        },
        "id": "2ngyoHmIyLX7",
        "outputId": "00c8968c-6c9c-4618-c883-b61069d3b833"
      },
      "execution_count": 9,
      "outputs": [
        {
          "output_type": "stream",
          "name": "stdout",
          "text": [
            "columns selected for later: ['hour']\n",
            "DecisionTreeRegressor()\n"
          ]
        }
      ]
    },
    {
      "cell_type": "code",
      "source": [
        "# SEPERATE TRAINING AND TEST SETS\n",
        "n = len(train_df) # get number of rows in the training set\n",
        "training_size = 0.75 # fraction of training data to split off for internal testing\n",
        "\n",
        "# set up separate training and testing sets\n",
        "# in this case using shuffled array indices\n",
        "# there are many more ways to do this too\n",
        "indices = np.array(range(n)) # makes an array of row indices in order\n",
        "from numpy.random import shuffle\n",
        "shuffle(indices)\n",
        "split_point = int(n*training_size)\n",
        "mytrain_i = indices[0:split_point]\n",
        "mytest_i = indices[split_point:]"
      ],
      "metadata": {
        "id": "dJSSncHXyWoW"
      },
      "execution_count": 10,
      "outputs": []
    },
    {
      "cell_type": "code",
      "source": [
        "# now use those shuffled indices to separating training from test dataframes\n",
        "new_train_df = train_df.iloc[mytrain_i]\n",
        "new_test_df = train_df.iloc[mytest_i]\n",
        "\n",
        "print(\"samples in the new training subset:\",len(new_train_df))\n",
        "print(\"samples in the new test subset:\",len(new_test_df))"
      ],
      "metadata": {
        "colab": {
          "base_uri": "https://localhost:8080/"
        },
        "id": "Kt3XlUOVybOe",
        "outputId": "51e570de-7f70-4344-cb48-8f5c1608911f"
      },
      "execution_count": 11,
      "outputs": [
        {
          "output_type": "stream",
          "name": "stdout",
          "text": [
            "samples in the new training subset: 6880\n",
            "samples in the new test subset: 2294\n"
          ]
        }
      ]
    },
    {
      "cell_type": "code",
      "source": [
        "#FIT THE MODEL TO A PROPORTION OF TRAINING SET, TEST ON THE REST AND EVALUATE\n",
        "# fit the model to the training subset of original training data\n",
        "model.fit(new_train_df[cols], new_train_df['count'])"
      ],
      "metadata": {
        "colab": {
          "base_uri": "https://localhost:8080/"
        },
        "id": "LiUSBT-Tyfst",
        "outputId": "b5a38d6e-833b-46cc-d277-5cd8bbf6d28f"
      },
      "execution_count": 12,
      "outputs": [
        {
          "output_type": "execute_result",
          "data": {
            "text/plain": [
              "DecisionTreeRegressor()"
            ]
          },
          "metadata": {},
          "execution_count": 12
        }
      ]
    },
    {
      "cell_type": "code",
      "source": [
        "# predict on the testing subset of the original training data\n",
        "pred_count = model.predict(new_test_df[cols])"
      ],
      "metadata": {
        "id": "VbblkCYJyiTv"
      },
      "execution_count": 13,
      "outputs": []
    },
    {
      "cell_type": "code",
      "source": [
        "# score the model on the new test set\n",
        "from sklearn.metrics import mean_squared_error\n",
        "rms = np.sqrt(mean_squared_error(new_test_df['count'],pred_count))\n",
        "print(\"RMS error:\",rms)"
      ],
      "metadata": {
        "colab": {
          "base_uri": "https://localhost:8080/"
        },
        "id": "dm6-LXv1yoKD",
        "outputId": "1a9f7694-7590-45e2-d8ea-2321b44aa017"
      },
      "execution_count": 14,
      "outputs": [
        {
          "output_type": "stream",
          "name": "stdout",
          "text": [
            "RMS error: 127.91471816624626\n"
          ]
        }
      ]
    },
    {
      "cell_type": "code",
      "source": [
        "# CREATING THE TEST FILE OUTPUT\n",
        "# read in the test data\n",
        "test_df = pd.read_csv('https://raw.githubusercontent.com/suthapalliuday/INFO5502-Summer2022/main/datasets/lab_assignment_06/train_luc.csv', header=0)\n",
        "print(\"\\nNumber of samples:\",test_df.shape[0] ,\"and number of features:\",test_df.shape[1],\"\\n\")\n"
      ],
      "metadata": {
        "colab": {
          "base_uri": "https://localhost:8080/"
        },
        "id": "knEyT7B8yv03",
        "outputId": "5912ab2c-c4bf-4a75-8cf6-7236b87928ac"
      },
      "execution_count": 15,
      "outputs": [
        {
          "output_type": "stream",
          "name": "stdout",
          "text": [
            "\n",
            "Number of samples: 9174 and number of features: 12 \n",
            "\n"
          ]
        }
      ]
    },
    {
      "cell_type": "code",
      "source": [
        "# must add that new feature into the test data too, to use it in prediction\n",
        "test_df['hour'] = test_df['datetime'].map(hour_of_day)\n",
        "\n",
        "# show the test data output to be sure it read in correctly and added the column\n",
        "test_df.head()\n",
        "# fit the selected model TO YOUR FULL TRAINING SET\n",
        "model.fit( train_df[cols], train_df['count'])\n",
        "\n",
        "# apply to the test data FOR WHICH YOU DON'T HAVE THE ANSWERS\n",
        "# (not the \"test set\" you used for model selection and tuning)\n",
        "pred_count = model.predict(test_df[cols])\n",
        "\n",
        "# add the prediction column (in case you want to inspect it later)\n",
        "test_df['count'] = pred_count\n",
        "\n",
        "# save the predicted count as a csv with a header column and datetime row\n",
        "test_df = test_df[['datetime','count']].to_csv('my_prediction.csv1', \n",
        "    index=False, header=True)\n",
        "print(\"Prediction complete. Saved as my_prediction.csv1\")\n"
      ],
      "metadata": {
        "colab": {
          "base_uri": "https://localhost:8080/"
        },
        "id": "RWFqAPfyy1Yc",
        "outputId": "43254319-0e7d-4f6c-9c57-b8564b47e351"
      },
      "execution_count": 17,
      "outputs": [
        {
          "output_type": "stream",
          "name": "stdout",
          "text": [
            "Prediction complete. Saved as my_prediction.csv1\n"
          ]
        }
      ]
    },
    {
      "cell_type": "code",
      "source": [
        "#Question2\n",
        "\n",
        "# Import libraries\n",
        "import pandas as pd\n",
        "import numpy as np\n",
        "\n",
        "import matplotlib.pyplot as plt\n",
        "import datetime\n",
        "\n",
        "# Import dataset\n",
        "df = pd.read_csv(r'https://raw.githubusercontent.com/suthapalliuday/INFO5502-Summer2022/main/datasets/portfolio_data.csv', index_col='Date', parse_dates=True)\n",
        "# Test if missing values exist\n",
        "\n",
        "df.isna().any()"
      ],
      "metadata": {
        "colab": {
          "base_uri": "https://localhost:8080/"
        },
        "id": "_rvqNHnI1LMP",
        "outputId": "d68cef66-5a20-4f11-ca95-080e10e966a1"
      },
      "execution_count": 60,
      "outputs": [
        {
          "output_type": "execute_result",
          "data": {
            "text/plain": [
              "AMZN    False\n",
              "DPZ     False\n",
              "BTC     False\n",
              "NFLX    False\n",
              "dtype: bool"
            ]
          },
          "metadata": {},
          "execution_count": 60
        }
      ]
    },
    {
      "cell_type": "code",
      "source": [
        "df.info()"
      ],
      "metadata": {
        "colab": {
          "base_uri": "https://localhost:8080/"
        },
        "id": "rHBjR-I11hmj",
        "outputId": "305d8ef7-7a30-446d-817a-1bf02a90deff"
      },
      "execution_count": 53,
      "outputs": [
        {
          "output_type": "stream",
          "name": "stdout",
          "text": [
            "<class 'pandas.core.frame.DataFrame'>\n",
            "DatetimeIndex: 1520 entries, 2013-05-01 to 2019-05-14\n",
            "Data columns (total 4 columns):\n",
            " #   Column  Non-Null Count  Dtype  \n",
            "---  ------  --------------  -----  \n",
            " 0   AMZN    1520 non-null   float64\n",
            " 1   DPZ     1520 non-null   float64\n",
            " 2   BTC     1520 non-null   float64\n",
            " 3   NFLX    1520 non-null   float64\n",
            "dtypes: float64(4)\n",
            "memory usage: 59.4 KB\n"
          ]
        }
      ]
    },
    {
      "cell_type": "code",
      "source": [
        "df.head()"
      ],
      "metadata": {
        "colab": {
          "base_uri": "https://localhost:8080/",
          "height": 238
        },
        "id": "56f2ZmCD9IWa",
        "outputId": "226b1072-936f-4e7c-feb7-d7d5002d80d7"
      },
      "execution_count": 55,
      "outputs": [
        {
          "output_type": "execute_result",
          "data": {
            "text/plain": [
              "                  AMZN        DPZ        BTC       NFLX\n",
              "Date                                                   \n",
              "2013-06-27  277.549988  55.273243  94.660004  30.709999\n",
              "2013-06-28  277.690002  54.662239  95.000000  30.155714\n",
              "2013-07-01  282.100006  56.316673  90.410004  32.040001\n",
              "2013-07-02  283.730011  56.532871  78.889999  31.637142\n",
              "2013-07-03  284.029999  56.617470  80.040001  31.558571"
            ],
            "text/html": [
              "\n",
              "  <div id=\"df-46f50805-cbb7-40b4-86a1-54df5a793bf2\">\n",
              "    <div class=\"colab-df-container\">\n",
              "      <div>\n",
              "<style scoped>\n",
              "    .dataframe tbody tr th:only-of-type {\n",
              "        vertical-align: middle;\n",
              "    }\n",
              "\n",
              "    .dataframe tbody tr th {\n",
              "        vertical-align: top;\n",
              "    }\n",
              "\n",
              "    .dataframe thead th {\n",
              "        text-align: right;\n",
              "    }\n",
              "</style>\n",
              "<table border=\"1\" class=\"dataframe\">\n",
              "  <thead>\n",
              "    <tr style=\"text-align: right;\">\n",
              "      <th></th>\n",
              "      <th>AMZN</th>\n",
              "      <th>DPZ</th>\n",
              "      <th>BTC</th>\n",
              "      <th>NFLX</th>\n",
              "    </tr>\n",
              "    <tr>\n",
              "      <th>Date</th>\n",
              "      <th></th>\n",
              "      <th></th>\n",
              "      <th></th>\n",
              "      <th></th>\n",
              "    </tr>\n",
              "  </thead>\n",
              "  <tbody>\n",
              "    <tr>\n",
              "      <th>2013-06-27</th>\n",
              "      <td>277.549988</td>\n",
              "      <td>55.273243</td>\n",
              "      <td>94.660004</td>\n",
              "      <td>30.709999</td>\n",
              "    </tr>\n",
              "    <tr>\n",
              "      <th>2013-06-28</th>\n",
              "      <td>277.690002</td>\n",
              "      <td>54.662239</td>\n",
              "      <td>95.000000</td>\n",
              "      <td>30.155714</td>\n",
              "    </tr>\n",
              "    <tr>\n",
              "      <th>2013-07-01</th>\n",
              "      <td>282.100006</td>\n",
              "      <td>56.316673</td>\n",
              "      <td>90.410004</td>\n",
              "      <td>32.040001</td>\n",
              "    </tr>\n",
              "    <tr>\n",
              "      <th>2013-07-02</th>\n",
              "      <td>283.730011</td>\n",
              "      <td>56.532871</td>\n",
              "      <td>78.889999</td>\n",
              "      <td>31.637142</td>\n",
              "    </tr>\n",
              "    <tr>\n",
              "      <th>2013-07-03</th>\n",
              "      <td>284.029999</td>\n",
              "      <td>56.617470</td>\n",
              "      <td>80.040001</td>\n",
              "      <td>31.558571</td>\n",
              "    </tr>\n",
              "  </tbody>\n",
              "</table>\n",
              "</div>\n",
              "      <button class=\"colab-df-convert\" onclick=\"convertToInteractive('df-46f50805-cbb7-40b4-86a1-54df5a793bf2')\"\n",
              "              title=\"Convert this dataframe to an interactive table.\"\n",
              "              style=\"display:none;\">\n",
              "        \n",
              "  <svg xmlns=\"http://www.w3.org/2000/svg\" height=\"24px\"viewBox=\"0 0 24 24\"\n",
              "       width=\"24px\">\n",
              "    <path d=\"M0 0h24v24H0V0z\" fill=\"none\"/>\n",
              "    <path d=\"M18.56 5.44l.94 2.06.94-2.06 2.06-.94-2.06-.94-.94-2.06-.94 2.06-2.06.94zm-11 1L8.5 8.5l.94-2.06 2.06-.94-2.06-.94L8.5 2.5l-.94 2.06-2.06.94zm10 10l.94 2.06.94-2.06 2.06-.94-2.06-.94-.94-2.06-.94 2.06-2.06.94z\"/><path d=\"M17.41 7.96l-1.37-1.37c-.4-.4-.92-.59-1.43-.59-.52 0-1.04.2-1.43.59L10.3 9.45l-7.72 7.72c-.78.78-.78 2.05 0 2.83L4 21.41c.39.39.9.59 1.41.59.51 0 1.02-.2 1.41-.59l7.78-7.78 2.81-2.81c.8-.78.8-2.07 0-2.86zM5.41 20L4 18.59l7.72-7.72 1.47 1.35L5.41 20z\"/>\n",
              "  </svg>\n",
              "      </button>\n",
              "      \n",
              "  <style>\n",
              "    .colab-df-container {\n",
              "      display:flex;\n",
              "      flex-wrap:wrap;\n",
              "      gap: 12px;\n",
              "    }\n",
              "\n",
              "    .colab-df-convert {\n",
              "      background-color: #E8F0FE;\n",
              "      border: none;\n",
              "      border-radius: 50%;\n",
              "      cursor: pointer;\n",
              "      display: none;\n",
              "      fill: #1967D2;\n",
              "      height: 32px;\n",
              "      padding: 0 0 0 0;\n",
              "      width: 32px;\n",
              "    }\n",
              "\n",
              "    .colab-df-convert:hover {\n",
              "      background-color: #E2EBFA;\n",
              "      box-shadow: 0px 1px 2px rgba(60, 64, 67, 0.3), 0px 1px 3px 1px rgba(60, 64, 67, 0.15);\n",
              "      fill: #174EA6;\n",
              "    }\n",
              "\n",
              "    [theme=dark] .colab-df-convert {\n",
              "      background-color: #3B4455;\n",
              "      fill: #D2E3FC;\n",
              "    }\n",
              "\n",
              "    [theme=dark] .colab-df-convert:hover {\n",
              "      background-color: #434B5C;\n",
              "      box-shadow: 0px 1px 3px 1px rgba(0, 0, 0, 0.15);\n",
              "      filter: drop-shadow(0px 1px 2px rgba(0, 0, 0, 0.3));\n",
              "      fill: #FFFFFF;\n",
              "    }\n",
              "  </style>\n",
              "\n",
              "      <script>\n",
              "        const buttonEl =\n",
              "          document.querySelector('#df-46f50805-cbb7-40b4-86a1-54df5a793bf2 button.colab-df-convert');\n",
              "        buttonEl.style.display =\n",
              "          google.colab.kernel.accessAllowed ? 'block' : 'none';\n",
              "\n",
              "        async function convertToInteractive(key) {\n",
              "          const element = document.querySelector('#df-46f50805-cbb7-40b4-86a1-54df5a793bf2');\n",
              "          const dataTable =\n",
              "            await google.colab.kernel.invokeFunction('convertToInteractive',\n",
              "                                                     [key], {});\n",
              "          if (!dataTable) return;\n",
              "\n",
              "          const docLinkHtml = 'Like what you see? Visit the ' +\n",
              "            '<a target=\"_blank\" href=https://colab.research.google.com/notebooks/data_table.ipynb>data table notebook</a>'\n",
              "            + ' to learn more about interactive tables.';\n",
              "          element.innerHTML = '';\n",
              "          dataTable['output_type'] = 'display_data';\n",
              "          await google.colab.output.renderOutput(dataTable, element);\n",
              "          const docLink = document.createElement('div');\n",
              "          docLink.innerHTML = docLinkHtml;\n",
              "          element.appendChild(docLink);\n",
              "        }\n",
              "      </script>\n",
              "    </div>\n",
              "  </div>\n",
              "  "
            ]
          },
          "metadata": {},
          "execution_count": 55
        }
      ]
    },
    {
      "cell_type": "code",
      "source": [
        "\n",
        "\n",
        "# Split training and testing datasets\n",
        "\n",
        "df_test = df.head(40)\n",
        "df = df[40:]\n",
        " "
      ],
      "metadata": {
        "id": "rlWA0b3P1oan"
      },
      "execution_count": 56,
      "outputs": []
    },
    {
      "cell_type": "code",
      "source": [
        "#Moving average\n",
        "\n",
        "df['AMZN'].plot(figsize=(16, 6))\n",
        "df.rolling(100).mean()['AMZN'].plot()\n"
      ],
      "metadata": {
        "colab": {
          "base_uri": "https://localhost:8080/",
          "height": 384
        },
        "id": "td0TnWxv9RQ2",
        "outputId": "32e5b17a-3c74-4f44-88de-b622822dc2be"
      },
      "execution_count": 57,
      "outputs": [
        {
          "output_type": "execute_result",
          "data": {
            "text/plain": [
              "<matplotlib.axes._subplots.AxesSubplot at 0x7f2753f10710>"
            ]
          },
          "metadata": {},
          "execution_count": 57
        },
        {
          "output_type": "display_data",
          "data": {
            "text/plain": [
              "<Figure size 1152x432 with 1 Axes>"
            ],
            "image/png": "[encoded data removed]"
          },
          "metadata": {
            "needs_background": "light"
          }
        }
      ]
    },
    {
      "cell_type": "code",
      "source": [
        "training_df = df['AMZN']\n",
        "training_df = pd.DataFrame(training_df)\n"
      ],
      "metadata": {
        "id": "H0WjXY7N1_2W"
      },
      "execution_count": 58,
      "outputs": []
    },
    {
      "cell_type": "code",
      "source": [
        "# Feature scaling\n",
        "\n",
        "from sklearn.preprocessing import MinMaxScaler\n",
        "sc = MinMaxScaler(feature_range = (0,1))\n",
        "training_df_scaled = sc.fit_transform(training_df)"
      ],
      "metadata": {
        "id": "xSRhyCY23qqQ"
      },
      "execution_count": 59,
      "outputs": []
    },
    {
      "cell_type": "code",
      "source": [
        "# Create structure with 60 timesteps and 1 output\n",
        "\n",
        "X_train = []\n",
        "y_train = []\n",
        "for i in range(60, 1440):\n",
        "    X_train.append(training_df_scaled[i-60:i, 0])\n",
        "    y_train.append(training_df_scaled[i, 0])\n",
        "X_train, y_train = np.array(X_train), np.array(y_train)\n",
        "\n",
        "\n",
        "# Reshape\n",
        "\n",
        "X_train = np.reshape(X_train, (X_train.shape[0], X_train.shape[1], 1))\n",
        "X_train"
      ],
      "metadata": {
        "colab": {
          "base_uri": "https://localhost:8080/"
        },
        "id": "Ij_NEy_r9aAi",
        "outputId": "e5ae41fa-f6f8-40cc-e1b1-db6d55561c51"
      },
      "execution_count": 65,
      "outputs": [
        {
          "output_type": "execute_result",
          "data": {
            "text/plain": [
              "array([[[5.16326634e-03],\n",
              "        [3.00242124e-03],\n",
              "        [0.00000000e+00],\n",
              "        ...,\n",
              "        [4.28129555e-02],\n",
              "        [4.91703534e-02],\n",
              "        [5.01768581e-02]],\n",
              "\n",
              "       [[3.00242124e-03],\n",
              "        [0.00000000e+00],\n",
              "        [3.69612980e-04],\n",
              "        ...,\n",
              "        [4.91703534e-02],\n",
              "        [5.01768581e-02],\n",
              "        [4.84766113e-02]],\n",
              "\n",
              "       [[0.00000000e+00],\n",
              "        [3.69612980e-04],\n",
              "        [1.73436407e-03],\n",
              "        ...,\n",
              "        [5.01768581e-02],\n",
              "        [4.84766113e-02],\n",
              "        [4.77715021e-02]],\n",
              "\n",
              "       ...,\n",
              "\n",
              "       [[7.72822387e-01],\n",
              "        [7.62956487e-01],\n",
              "        [7.54597428e-01],\n",
              "        ...,\n",
              "        [9.32610397e-01],\n",
              "        [9.30773699e-01],\n",
              "        [9.20595018e-01]],\n",
              "\n",
              "       [[7.62956487e-01],\n",
              "        [7.54597428e-01],\n",
              "        [7.65759846e-01],\n",
              "        ...,\n",
              "        [9.30773699e-01],\n",
              "        [9.20595018e-01],\n",
              "        [9.14971154e-01]],\n",
              "\n",
              "       [[7.54597428e-01],\n",
              "        [7.65759846e-01],\n",
              "        [7.62643707e-01],\n",
              "        ...,\n",
              "        [9.20595018e-01],\n",
              "        [9.14971154e-01],\n",
              "        [8.76701683e-01]]])"
            ]
          },
          "metadata": {},
          "execution_count": 65
        }
      ]
    },
    {
      "cell_type": "code",
      "source": [
        "# Import Keras\n",
        "\n",
        "from keras.models import Sequential\n",
        "from keras.layers import Dense\n",
        "from keras.layers import LSTM\n",
        "from keras.layers import Dropout"
      ],
      "metadata": {
        "id": "2l4wijRz4D7z"
      },
      "execution_count": 40,
      "outputs": []
    },
    {
      "cell_type": "code",
      "source": [
        "# Initialize RNN\n",
        "\n",
        "regressor = Sequential()"
      ],
      "metadata": {
        "id": "4dXWQu1U4IqE"
      },
      "execution_count": 41,
      "outputs": []
    },
    {
      "cell_type": "code",
      "source": [
        ""
      ],
      "metadata": {
        "id": "rZUvvzjp8uie"
      },
      "execution_count": null,
      "outputs": []
    },
    {
      "cell_type": "code",
      "source": [
        "# First LSTM layer\n",
        "\n",
        "regressor.add(LSTM(units = 50, return_sequences = True, input_shape = (X_train.shape[1], 1)))\n",
        "regressor.add(Dropout(0.2))\n",
        "\n",
        "\n",
        "# Second LSTM layer\n",
        "\n",
        "regressor.add(LSTM(units = 50, return_sequences = True))\n",
        "regressor.add(Dropout(0.2))\n",
        "\n",
        "\n",
        "# Thirs LSTM layer\n",
        "\n",
        "regressor.add(LSTM(units = 50, return_sequences = True))\n",
        "regressor.add(Dropout(0.2))\n",
        "\n",
        "# Fourth LSTM layer\n",
        "\n",
        "regressor.add(LSTM(units = 50))\n",
        "regressor.add(Dropout(0.2))\n",
        "\n",
        "              \n",
        "# Output layer\n",
        "\n",
        "regressor.add(Dense(units = 1))"
      ],
      "metadata": {
        "id": "f2OrJStd4hgl"
      },
      "execution_count": 66,
      "outputs": []
    },
    {
      "cell_type": "code",
      "source": [
        "#Compile RNN\n",
        "\n",
        "regressor.compile(optimizer = 'adam', loss = 'mean_squared_error')\n",
        "\n",
        "\n",
        "# Fit RNN\n",
        "\n",
        "regressor.fit(X_train, y_train, epochs = 20, batch_size = 5)"
      ],
      "metadata": {
        "colab": {
          "base_uri": "https://localhost:8080/"
        },
        "id": "Wtv7RHtw-iEP",
        "outputId": "635c1e6f-346d-49d2-d540-21b929ebc810"
      },
      "execution_count": 67,
      "outputs": [
        {
          "output_type": "stream",
          "name": "stdout",
          "text": [
            "Epoch 1/20\n",
            "276/276 [==============================] - 27s 69ms/step - loss: 0.0066\n",
            "Epoch 2/20\n",
            "276/276 [==============================] - 26s 95ms/step - loss: 0.0039\n",
            "Epoch 3/20\n",
            "276/276 [==============================] - 19s 68ms/step - loss: 0.0035\n",
            "Epoch 4/20\n",
            "276/276 [==============================] - 20s 73ms/step - loss: 0.0037\n",
            "Epoch 5/20\n",
            "276/276 [==============================] - 20s 72ms/step - loss: 0.0030\n",
            "Epoch 6/20\n",
            "276/276 [==============================] - 24s 86ms/step - loss: 0.0022\n",
            "Epoch 7/20\n",
            "276/276 [==============================] - 28s 101ms/step - loss: 0.0020\n",
            "Epoch 8/20\n",
            "276/276 [==============================] - 23s 84ms/step - loss: 0.0027\n",
            "Epoch 9/20\n",
            "276/276 [==============================] - 24s 88ms/step - loss: 0.0021\n",
            "Epoch 10/20\n",
            "276/276 [==============================] - 24s 85ms/step - loss: 0.0022\n",
            "Epoch 11/20\n",
            "276/276 [==============================] - 19s 70ms/step - loss: 0.0020\n",
            "Epoch 12/20\n",
            "276/276 [==============================] - 19s 68ms/step - loss: 0.0018\n",
            "Epoch 13/20\n",
            "276/276 [==============================] - 19s 69ms/step - loss: 0.0019\n",
            "Epoch 14/20\n",
            "276/276 [==============================] - 20s 72ms/step - loss: 0.0023\n",
            "Epoch 15/20\n",
            "276/276 [==============================] - 19s 69ms/step - loss: 0.0020\n",
            "Epoch 16/20\n",
            "276/276 [==============================] - 19s 67ms/step - loss: 0.0016\n",
            "Epoch 17/20\n",
            "276/276 [==============================] - 19s 67ms/step - loss: 0.0019\n",
            "Epoch 18/20\n",
            "276/276 [==============================] - 19s 67ms/step - loss: 0.0017\n",
            "Epoch 19/20\n",
            "276/276 [==============================] - 19s 68ms/step - loss: 0.0016\n",
            "Epoch 20/20\n",
            "276/276 [==============================] - 20s 71ms/step - loss: 0.0015\n"
          ]
        },
        {
          "output_type": "execute_result",
          "data": {
            "text/plain": [
              "<keras.callbacks.History at 0x7f2753a4ff90>"
            ]
          },
          "metadata": {},
          "execution_count": 67
        }
      ]
    },
    {
      "cell_type": "code",
      "source": [
        "real_stock_price = df_test['AMZN'].values\n",
        "real_stock_price"
      ],
      "metadata": {
        "colab": {
          "base_uri": "https://localhost:8080/"
        },
        "id": "DM-CpNmE-pYB",
        "outputId": "a5697741-6d35-489e-d86f-e0156b282c35"
      },
      "execution_count": 68,
      "outputs": [
        {
          "output_type": "execute_result",
          "data": {
            "text/plain": [
              "array([277.549988, 277.690002, 282.100006, 283.730011, 284.029999,\n",
              "       285.880005, 290.589996, 291.529999, 292.329987, 299.660004,\n",
              "       307.549988, 306.570007, 306.869995, 308.690002, 304.109985,\n",
              "       305.230011, 303.480011, 301.059998, 298.940002, 303.399994,\n",
              "       312.01001 , 306.100006, 302.410004, 301.220001, 305.570007,\n",
              "       304.209991, 300.98999 , 300.75    , 296.910004, 295.73999 ,\n",
              "       297.26001 , 296.690002, 293.970001, 291.339996, 286.470001,\n",
              "       284.820007, 285.570007, 287.089996, 284.570007, 289.730011])"
            ]
          },
          "metadata": {},
          "execution_count": 68
        }
      ]
    },
    {
      "cell_type": "code",
      "source": [
        "df_test.info()"
      ],
      "metadata": {
        "colab": {
          "base_uri": "https://localhost:8080/"
        },
        "id": "R4iu3n-B-4aw",
        "outputId": "74eb5dff-e024-47ea-c7c1-3a8502fac784"
      },
      "execution_count": 71,
      "outputs": [
        {
          "output_type": "stream",
          "name": "stdout",
          "text": [
            "<class 'pandas.core.frame.DataFrame'>\n",
            "DatetimeIndex: 40 entries, 2013-06-27 to 2013-08-22\n",
            "Data columns (total 4 columns):\n",
            " #   Column  Non-Null Count  Dtype  \n",
            "---  ------  --------------  -----  \n",
            " 0   AMZN    40 non-null     float64\n",
            " 1   DPZ     40 non-null     float64\n",
            " 2   BTC     40 non-null     float64\n",
            " 3   NFLX    40 non-null     float64\n",
            "dtypes: float64(4)\n",
            "memory usage: 1.6 KB\n"
          ]
        }
      ]
    },
    {
      "cell_type": "code",
      "source": [
        "test_set = df_test['AMZN']\n",
        "test_set = pd.DataFrame(test_set)\n",
        "test_set.info()"
      ],
      "metadata": {
        "colab": {
          "base_uri": "https://localhost:8080/"
        },
        "id": "MopoHMgD-_CF",
        "outputId": "fc0ef5c3-e9f4-40b4-bf4b-572825ede415"
      },
      "execution_count": 72,
      "outputs": [
        {
          "output_type": "stream",
          "name": "stdout",
          "text": [
            "<class 'pandas.core.frame.DataFrame'>\n",
            "DatetimeIndex: 40 entries, 2013-06-27 to 2013-08-22\n",
            "Data columns (total 1 columns):\n",
            " #   Column  Non-Null Count  Dtype  \n",
            "---  ------  --------------  -----  \n",
            " 0   AMZN    40 non-null     float64\n",
            "dtypes: float64(1)\n",
            "memory usage: 640.0 bytes\n"
          ]
        }
      ]
    },
    {
      "cell_type": "code",
      "source": [
        "df_total = pd.concat((df['AMZN'], df_test['AMZN']), axis = 0)\n",
        "inputs = df_total[len(df_total) - len(df_test) - 60:].values\n",
        "inputs = inputs.reshape(-1,1)\n",
        "inputs = sc.transform(inputs)\n",
        "X_test = []\n",
        "for i in range(60, 100):\n",
        "    X_test.append(inputs[i-60:i, 0])\n",
        "X_test = np.array(X_test)\n",
        "X_test = np.reshape(X_test, (X_test.shape[0], X_test.shape[1], 1))\n",
        "\n",
        "predicted_stock_price = regressor.predict(X_test)\n",
        "predicted_stock_price = sc.inverse_transform(predicted_stock_price)"
      ],
      "metadata": {
        "colab": {
          "base_uri": "https://localhost:8080/"
        },
        "id": "k2nr5A0u_D8B",
        "outputId": "49ef19fc-cf17-4ffb-b3ff-18c84fbdbcfc"
      },
      "execution_count": 69,
      "outputs": [
        {
          "output_type": "stream",
          "name": "stderr",
          "text": [
            "/usr/local/lib/python3.7/dist-packages/sklearn/base.py:451: UserWarning: X does not have valid feature names, but MinMaxScaler was fitted with feature names\n",
            "  \"X does not have valid feature names, but\"\n"
          ]
        }
      ]
    },
    {
      "cell_type": "code",
      "source": [
        "predicted_stock_price = pd.DataFrame(predicted_stock_price)\n",
        "predicted_stock_price = predicted_stock_price.values\n",
        "predicted_stock_price"
      ],
      "metadata": {
        "colab": {
          "base_uri": "https://localhost:8080/"
        },
        "id": "GJ3DERbE_IFh",
        "outputId": "7cba036f-ddd5-45f4-a40c-02e5857162b1"
      },
      "execution_count": 73,
      "outputs": [
        {
          "output_type": "execute_result",
          "data": {
            "text/plain": [
              "array([[1860.8679 ],\n",
              "       [1755.3754 ],\n",
              "       [1580.6617 ],\n",
              "       [1369.0186 ],\n",
              "       [1149.4725 ],\n",
              "       [ 943.7067 ],\n",
              "       [ 765.77655],\n",
              "       [ 622.53094],\n",
              "       [ 514.4725 ],\n",
              "       [ 437.57895],\n",
              "       [ 385.7949 ],\n",
              "       [ 352.78986],\n",
              "       [ 332.58203],\n",
              "       [ 320.34726],\n",
              "       [ 312.7689 ],\n",
              "       [ 307.53802],\n",
              "       [ 303.469  ],\n",
              "       [ 300.00037],\n",
              "       [ 296.87418],\n",
              "       [ 294.00488],\n",
              "       [ 291.69394],\n",
              "       [ 290.53333],\n",
              "       [ 290.34372],\n",
              "       [ 290.5849 ],\n",
              "       [ 290.8514 ],\n",
              "       [ 291.20624],\n",
              "       [ 291.65616],\n",
              "       [ 292.01773],\n",
              "       [ 292.20016],\n",
              "       [ 292.04883],\n",
              "       [ 291.5371 ],\n",
              "       [ 290.86533],\n",
              "       [ 290.2004 ],\n",
              "       [ 289.51907],\n",
              "       [ 288.7103 ],\n",
              "       [ 287.57028],\n",
              "       [ 286.07037],\n",
              "       [ 284.42545],\n",
              "       [ 282.94952],\n",
              "       [ 281.70816]], dtype=float32)"
            ]
          },
          "metadata": {},
          "execution_count": 73
        }
      ]
    },
    {
      "cell_type": "code",
      "source": [
        "real_stock_price"
      ],
      "metadata": {
        "colab": {
          "base_uri": "https://localhost:8080/"
        },
        "id": "BW1hhF2Y_L5V",
        "outputId": "52811707-fbdc-4765-820f-989e60c0db14"
      },
      "execution_count": 75,
      "outputs": [
        {
          "output_type": "execute_result",
          "data": {
            "text/plain": [
              "array([277.549988, 277.690002, 282.100006, 283.730011, 284.029999,\n",
              "       285.880005, 290.589996, 291.529999, 292.329987, 299.660004,\n",
              "       307.549988, 306.570007, 306.869995, 308.690002, 304.109985,\n",
              "       305.230011, 303.480011, 301.059998, 298.940002, 303.399994,\n",
              "       312.01001 , 306.100006, 302.410004, 301.220001, 305.570007,\n",
              "       304.209991, 300.98999 , 300.75    , 296.910004, 295.73999 ,\n",
              "       297.26001 , 296.690002, 293.970001, 291.339996, 286.470001,\n",
              "       284.820007, 285.570007, 287.089996, 284.570007, 289.730011])"
            ]
          },
          "metadata": {},
          "execution_count": 75
        }
      ]
    },
    {
      "cell_type": "code",
      "source": [
        "# Plot the results\n",
        "\n",
        "plt.plot(real_stock_price, color = 'yellow', label = 'Real Apple Stock Price')\n",
        "plt.plot(predicted_stock_price, color = 'green', label = 'Predicted Apple Stock Price')\n",
        "plt.title('Apple Stock Price Prediction')\n",
        "plt.xlabel('Time')\n",
        "plt.ylabel('Stock Price')\n",
        "plt.legend()\n",
        "plt.show()"
      ],
      "metadata": {
        "colab": {
          "base_uri": "https://localhost:8080/",
          "height": 295
        },
        "id": "yJDZjajj_Pp2",
        "outputId": "8c3d135e-4a75-49d8-f680-87c6dfab55dc"
      },
      "execution_count": 78,
      "outputs": [
        {
          "output_type": "display_data",
          "data": {
            "text/plain": [
              "<Figure size 432x288 with 1 Axes>"
            ],
            "image/png": "[encoded data removed]"
          },
          "metadata": {
            "needs_background": "light"
          }
        }
      ]
    }
  ]
}