{
  "nbformat": 4,
  "nbformat_minor": 0,
  "metadata": {
    "colab": {
      "name": "Lab_assignment1.ipynb",
      "provenance": [],
      "collapsed_sections": [],
      "authorship_tag": "ABX9TyN9eQYQAeMZkzT0jhVsZIbl",
      "include_colab_link": true
    },
    "kernelspec": {
      "name": "python3",
      "display_name": "Python 3"
    },
    "language_info": {
      "name": "python"
    }
  },
  "cells": [
    {
      "cell_type": "markdown",
      "metadata": {
        "id": "view-in-github",
        "colab_type": "text"
      },
      "source": [
        "<a href=\"https://colab.research.google.com/github/oluwaseuno25/OLUWASEUN_INFO5502_-Summer2022/blob/main/Lab_assignment1.ipynb\" target=\"_parent\"><img src=\"https://colab.research.google.com/assets/colab-badge.svg\" alt=\"Open In Colab\"/></a>"
      ]
    },
    {
      "cell_type": "code",
      "source": [
        "#1. To count the number of characters in \"I love python\"\n",
        "def char_frequency(str1):\n",
        "    dict = {}\n",
        "    for y in str1:\n",
        "        keys = dict.keys()\n",
        "        if y in keys:\n",
        "            dict[y] += 1\n",
        "        else:\n",
        "            dict[y] = 1\n",
        "    return dict\n",
        "print(char_frequency('I love python'))\n",
        "\n",
        "\n"
      ],
      "metadata": {
        "colab": {
          "base_uri": "https://localhost:8080/"
        },
        "id": "O2cyczbhIQax",
        "outputId": "aa66121c-0a66-45c9-9547-a872bdeb8eae"
      },
      "execution_count": 8,
      "outputs": [
        {
          "output_type": "stream",
          "name": "stdout",
          "text": [
            "{'I': 1, ' ': 2, 'l': 1, 'o': 2, 'v': 1, 'e': 1, 'p': 1, 'y': 1, 't': 1, 'h': 1, 'n': 1}\n"
          ]
        }
      ]
    },
    {
      "cell_type": "code",
      "source": [
        "# To sum all the items in a list\n",
        "Mylist = [10, 15, 20, 25, 30]\n",
        "sum(Mylist)"
      ],
      "metadata": {
        "colab": {
          "base_uri": "https://localhost:8080/"
        },
        "id": "J-gyI7axL2TP",
        "outputId": "ab52514b-0879-431a-cf45-c092146aca0f"
      },
      "execution_count": 9,
      "outputs": [
        {
          "output_type": "execute_result",
          "data": {
            "text/plain": [
              "100"
            ]
          },
          "metadata": {},
          "execution_count": 9
        }
      ]
    },
    {
      "cell_type": "code",
      "source": [
        "#3. All occurences of r changed to $ except the first character(r)\n",
        "s = 'reprobater'\n",
        "from re import sub\n",
        "print(sub(r\"(?<!^)\"+s[0], \"$\", s))"
      ],
      "metadata": {
        "colab": {
          "base_uri": "https://localhost:8080/"
        },
        "id": "yq2XsaVlL-Tm",
        "outputId": "8198526c-1c97-4f62-a6bd-f3172eca1cc6"
      },
      "execution_count": 10,
      "outputs": [
        {
          "output_type": "stream",
          "name": "stdout",
          "text": [
            "rep$obate$\n"
          ]
        }
      ]
    },
    {
      "cell_type": "code",
      "source": [
        "#4. The two parameters a =3 and b=2 respectively,parameters defined and formula written as s= 3.14*(1+a/b)**3\n",
        "a = 3\n",
        "b = 2\n",
        "S= 3.14*(1+a/b)**3\n",
        "print('The result of the formula is: ',S)"
      ],
      "metadata": {
        "colab": {
          "base_uri": "https://localhost:8080/"
        },
        "id": "iEZARdd9MGFm",
        "outputId": "31f33f2a-a7ca-471c-8192-e0dd39c9f7ce"
      },
      "execution_count": 11,
      "outputs": [
        {
          "output_type": "stream",
          "name": "stdout",
          "text": [
            "The result of the formula is:  49.0625\n"
          ]
        }
      ]
    },
    {
      "cell_type": "code",
      "source": [
        "#5. Python program to concatenate following dictionaries to create a new one\n",
        "dic1 = {1:10, 2:20}\n",
        "dic2={3:30, 4:40}\n",
        "dic3={5:50,6:60}\n",
        "Sampledictionary = {**dic1,**dic2,**dic3}\n",
        "print(Sampledictionary)"
      ],
      "metadata": {
        "colab": {
          "base_uri": "https://localhost:8080/"
        },
        "id": "y71B0dqSMPN4",
        "outputId": "11b64cce-ab99-46eb-d869-61d3d0ac8caa"
      },
      "execution_count": 12,
      "outputs": [
        {
          "output_type": "stream",
          "name": "stdout",
          "text": [
            "{1: 10, 2: 20, 3: 30, 4: 40, 5: 50, 6: 60}\n"
          ]
        }
      ]
    },
    {
      "cell_type": "code",
      "source": [
        "#6. To check if apple,orange , and 20 exists in tuple_1\n",
        "\n",
        "tuple_1 = (\"apple\",\"2\",\"40\",\"r\",\"orange\")\n",
        "print(\"apple\" in tuple_1)\n",
        "print(\"orange\" in tuple_1)\n",
        "print(\"20\" in tuple_1)\n",
        "#Another method to check whether an element exists within a tuple\n",
        "# Define my tuple first\n",
        "tuple_2 = (\"pearl\",\"2\",\"40\",\"r\",\"banana\")\n",
        "# check whether banana exists in tuple_2\n",
        "element = \"banana\"\n",
        "if element in tuple_2:\n",
        "    print(element,\"is in tuple_2\")\n",
        "else:\n",
        "    print(element,\"does not exist in tuple_2\")\n",
        "    "
      ],
      "metadata": {
        "colab": {
          "base_uri": "https://localhost:8080/"
        },
        "id": "_d4pQZl_MSCi",
        "outputId": "2169afa2-0d89-44b2-855e-9fb9b323f32a"
      },
      "execution_count": 14,
      "outputs": [
        {
          "output_type": "stream",
          "name": "stdout",
          "text": [
            "True\n",
            "True\n",
            "False\n",
            "banana is in tuple_2\n"
          ]
        }
      ]
    },
    {
      "cell_type": "code",
      "source": [
        "#7. Python program to find maximum and the minimum value in a set\n",
        "# Define a set first\n",
        "set1 = {2, 9, 4, 12, 2, 200}\n",
        "# print the defined set\n",
        "print(set1)\n",
        "print(\"\\nMaximum value in set1:\")\n",
        "print(max(set1))\n",
        "print(\"\\nMinimum value of  set1:\")\n",
        "print(min(set1))"
      ],
      "metadata": {
        "colab": {
          "base_uri": "https://localhost:8080/"
        },
        "id": "Lqsa8dEhMpaL",
        "outputId": "7bd2165f-2882-4e77-8678-dbb5bac3db25"
      },
      "execution_count": 15,
      "outputs": [
        {
          "output_type": "stream",
          "name": "stdout",
          "text": [
            "{2, 4, 200, 9, 12}\n",
            "\n",
            "Maximum value in set1:\n",
            "200\n",
            "\n",
            "Minimum value of  set1:\n",
            "2\n"
          ]
        }
      ]
    },
    {
      "cell_type": "code",
      "source": [
        " #8.Python program to find the duplicate elements in a given array of integers. Return -1 If there are no such elements.\n",
        "def duplicate(arr):\n",
        "    unique_nb = set()\n",
        "    for nb in arr:\n",
        "        if nb in unique_nb:\n",
        "            return nb\n",
        "        else: \n",
        "            unique_nb.add(nb)\n",
        "    return -1    \n",
        "print(duplicate([16,20,30,40,65]))\n"
      ],
      "metadata": {
        "colab": {
          "base_uri": "https://localhost:8080/"
        },
        "id": "-_rCT8AAMwuI",
        "outputId": "15fe9f04-375f-4e7a-efe4-5d23c93544c1"
      },
      "execution_count": 16,
      "outputs": [
        {
          "output_type": "stream",
          "name": "stdout",
          "text": [
            "-1\n"
          ]
        }
      ]
    },
    {
      "cell_type": "code",
      "source": [
        ""
      ],
      "metadata": {
        "id": "YO_FDRShNHDO"
      },
      "execution_count": null,
      "outputs": []
    },
    {
      "cell_type": "code",
      "source": [
        ""
      ],
      "metadata": {
        "id": "RDQpq_DIM-18"
      },
      "execution_count": null,
      "outputs": []
    }
  ]
}