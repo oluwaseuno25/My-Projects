{
  "nbformat": 4,
  "nbformat_minor": 0,
  "metadata": {
    "colab": {
      "name": "Lab_Assignment_04.ipynb",
      "provenance": [],
      "collapsed_sections": [],
      "authorship_tag": "ABX9TyNkwgUfi9e+Td58g+jKxzVF",
      "include_colab_link": true
    },
    "kernelspec": {
      "name": "python3",
      "display_name": "Python 3"
    },
    "language_info": {
      "name": "python"
    }
  },
  "cells": [
    {
      "cell_type": "markdown",
      "metadata": {
        "id": "view-in-github",
        "colab_type": "text"
      },
      "source": [
        "<a href=\"https://colab.research.google.com/github/oluwaseuno25/OLUWASEUN_INFO5502_-Summer2022/blob/main/Lab_Assignment_04.ipynb\" target=\"_parent\"><img src=\"https://colab.research.google.com/assets/colab-badge.svg\" alt=\"Open In Colab\"/></a>"
      ]
    },
    {
      "cell_type": "code",
      "source": [
        "import os\n",
        "\n",
        "count = 0\n",
        "for root_dir, cur_dir, files in os.walk(r\"C:\\Users\\Peter\\Desktop\\preprocessed_cases[cases_29404]\\1\"):\n",
        "    count += len(files)\n",
        "print('file count1:', count)\n",
        "\n",
        "import os\n",
        "\n",
        "count = 0\n",
        "for root_dir, cur_dir, files in os.walk(r\"C:\\Users\\Peter\\Desktop\\preprocessed_cases[cases_29404]\\2\"):\n",
        "    count += len(files)\n",
        "print('file count2:', count)\n",
        "\n",
        "import os\n",
        "\n",
        "count = 0\n",
        "for root_dir, cur_dir, files in os.walk(r\"C:\\Users\\Peter\\Desktop\\preprocessed_cases[cases_29404]\\3\"):\n",
        "    count += len(files)\n",
        "print('file count3:', count)\n",
        "\n",
        "import os\n",
        "\n",
        "count = 0\n",
        "for root_dir, cur_dir, files in os.walk(r\"C:\\Users\\Peter\\Desktop\\preprocessed_cases[cases_29404]\\4\"):\n",
        "    count += len(files)\n",
        "print('file count4:', count)\n",
        "\n",
        "import os\n",
        "\n",
        "count = 0\n",
        "for root_dir, cur_dir, files in os.walk(r\"C:\\Users\\Peter\\Desktop\\preprocessed_cases[cases_29404]\\5\"):\n",
        "    count += len(files)\n",
        "print('file count5:', count)\n",
        "\n",
        "import os\n",
        "\n",
        "count = 0\n",
        "for root_dir, cur_dir, files in os.walk(r\"C:\\Users\\Peter\\Desktop\\preprocessed_cases[cases_29404]\\6\"):\n",
        "    count += len(files)\n",
        "print('file count6:', count)\n",
        "\n",
        "import os\n",
        "\n",
        "count = 0\n",
        "for root_dir, cur_dir, files in os.walk(r\"C:\\Users\\Peter\\Desktop\\preprocessed_cases[cases_29404]\\7\"):\n",
        "    count += len(files)\n",
        "print('file count7:', count)\n",
        "\n",
        "import os\n",
        "\n",
        "count = 0\n",
        "for root_dir, cur_dir, files in os.walk(r\"C:\\Users\\Peter\\Desktop\\preprocessed_cases[cases_29404]\\8\"):\n",
        "    count += len(files)\n",
        "print('file count8:', count)\n",
        "\n",
        "import os\n",
        "\n",
        "count = 0\n",
        "for root_dir, cur_dir, files in os.walk(r\"C:\\Users\\Peter\\Desktop\\preprocessed_cases[cases_29404]\\9\"):\n",
        "    count += len(files)\n",
        "print('file count9:', count)\n",
        "\n",
        "import os\n",
        "\n",
        "count = 0\n",
        "for root_dir, cur_dir, files in os.walk(r\"C:\\Users\\Peter\\Desktop\\preprocessed_cases[cases_29404]\\10\"):\n",
        "    count += len(files)\n",
        "print('file count10:', count)\n",
        "\n",
        "\n",
        "\n",
        "import os\n",
        "\n",
        "count = 0\n",
        "for root_dir, cur_dir, files in os.walk(r\"C:\\Users\\Peter\\Desktop\\preprocessed_cases[cases_29404]\\11\"):\n",
        "    count += len(files)\n",
        "print('file count11:', count)\n",
        "\n",
        "import os\n",
        "\n",
        "count = 0\n",
        "for root_dir, cur_dir, files in os.walk(r\"C:\\Users\\Peter\\Desktop\\preprocessed_cases[cases_29404]\\12\"):\n",
        "    count += len(files)\n",
        "print('file count12:', count)\n",
        "\n",
        "import os\n",
        "\n",
        "count = 0\n",
        "for root_dir, cur_dir, files in os.walk(r\"C:\\Users\\Peter\\Desktop\\preprocessed_cases[cases_29404]\\13\"):\n",
        "    count += len(files)\n",
        "print('file count13:', count)\n",
        "\n",
        "import os\n",
        "\n",
        "count = 0\n",
        "for root_dir, cur_dir, files in os.walk(r\"C:\\Users\\Peter\\Desktop\\preprocessed_cases[cases_29404]\\14\"):\n",
        "    count += len(files)\n",
        "print('file count14:', count)\n",
        "\n",
        "import os\n",
        "\n",
        "count = 0\n",
        "for root_dir, cur_dir, files in os.walk(r\"C:\\Users\\Peter\\Desktop\\preprocessed_cases[cases_29404]\\15\"):\n",
        "    count += len(files)\n",
        "print('file count15:', count)\n",
        "\n",
        "import os\n",
        "\n",
        "count = 0\n",
        "for root_dir, cur_dir, files in os.walk(r\"C:\\Users\\Peter\\Desktop\\preprocessed_cases[cases_29404]\\16\"):\n",
        "    count += len(files)\n",
        "print('file count16:', count)\n",
        "\n",
        "import os\n",
        "\n",
        "count = 0\n",
        "for root_dir, cur_dir, files in os.walk(r\"C:\\Users\\Peter\\Desktop\\preprocessed_cases[cases_29404]\\17\"):\n",
        "    count += len(files)\n",
        "print('file count17:', count)\n",
        "\n",
        "import os\n",
        "\n",
        "count = 0\n",
        "for root_dir, cur_dir, files in os.walk(r\"C:\\Users\\Peter\\Desktop\\preprocessed_cases[cases_29404]\\18\"):\n",
        "    count += len(files)\n",
        "print('file count18:', count)\n",
        "\n",
        "import os\n",
        "\n",
        "count = 0\n",
        "for root_dir, cur_dir, files in os.walk(r\"C:\\Users\\Peter\\Desktop\\preprocessed_cases[cases_29404]\\19\"):\n",
        "    count += len(files)\n",
        "print('file count19:', count)\n",
        "\n",
        "import os\n",
        "\n",
        "count = 0\n",
        "for root_dir, cur_dir, files in os.walk(r\"C:\\Users\\Peter\\Desktop\\preprocessed_cases[cases_29404]\\20\"):\n",
        "    count += len(files)\n",
        "print('file count20:', count)\n",
        "\n",
        "\n",
        "\n",
        "import os\n",
        "\n",
        "count = 0\n",
        "for root_dir, cur_dir, files in os.walk(r\"C:\\Users\\Peter\\Desktop\\preprocessed_cases[cases_29404]\\21\"):\n",
        "    count += len(files)\n",
        "print('file count21:', count)\n",
        "\n",
        "import os\n",
        "\n",
        "count = 0\n",
        "for root_dir, cur_dir, files in os.walk(r\"C:\\Users\\Peter\\Desktop\\preprocessed_cases[cases_29404]\\22\"):\n",
        "    count += len(files)\n",
        "print('file count22:', count)\n",
        "\n",
        "import os\n",
        "\n",
        "count = 0\n",
        "for root_dir, cur_dir, files in os.walk(r\"C:\\Users\\Peter\\Desktop\\preprocessed_cases[cases_29404]\\23\"):\n",
        "    count += len(files)\n",
        "print('file count23:', count)\n",
        "\n",
        "import os\n",
        "\n",
        "count = 0\n",
        "for root_dir, cur_dir, files in os.walk(r\"C:\\Users\\Peter\\Desktop\\preprocessed_cases[cases_29404]\\24\"):\n",
        "    count += len(files)\n",
        "print('file count24:', count)\n",
        "\n",
        "import os\n",
        "\n",
        "count = 0\n",
        "for root_dir, cur_dir, files in os.walk(r\"C:\\Users\\Peter\\Desktop\\preprocessed_cases[cases_29404]\\25\"):\n",
        "    count += len(files)\n",
        "print('file count25:', count)\n",
        "\n",
        "import os\n",
        "\n",
        "count = 0\n",
        "for root_dir, cur_dir, files in os.walk(r\"C:\\Users\\Peter\\Desktop\\preprocessed_cases[cases_29404]\\26\"):\n",
        "    count += len(files)\n",
        "print('file count26:', count)\n",
        "\n",
        "import os\n",
        "\n",
        "count = 0\n",
        "for root_dir, cur_dir, files in os.walk(r\"C:\\Users\\Peter\\Desktop\\preprocessed_cases[cases_29404]\\27\"):\n",
        "    count += len(files)\n",
        "print('file count27:', count)\n",
        "\n",
        "import os\n",
        "\n",
        "count = 0\n",
        "for root_dir, cur_dir, files in os.walk(r\"C:\\Users\\Peter\\Desktop\\preprocessed_cases[cases_29404]\\28\"):\n",
        "    count += len(files)\n",
        "print('file count28:', count)\n",
        "\n",
        "import os\n",
        "\n",
        "count = 0\n",
        "for root_dir, cur_dir, files in os.walk(r\"C:\\Users\\Peter\\Desktop\\preprocessed_cases[cases_29404]\\29\"):\n",
        "    count += len(files)\n",
        "print('file count29:', count)\n",
        "\n",
        "import os\n",
        "\n",
        "count = 0\n",
        "for root_dir, cur_dir, files in os.walk(r\"C:\\Users\\Peter\\Desktop\\preprocessed_cases[cases_29404]\\30\"):\n",
        "    count += len(files)\n",
        "print('file count30:', count)\n",
        "\n",
        "\n",
        "\n",
        "import os\n",
        "\n",
        "count = 0\n",
        "for root_dir, cur_dir, files in os.walk(r\"C:\\Users\\Peter\\Desktop\\preprocessed_cases[cases_29404]\\31\"):\n",
        "    count += len(files)\n",
        "print('file count31:', count)\n",
        "\n",
        "import os\n",
        "\n",
        "count = 0\n",
        "for root_dir, cur_dir, files in os.walk(r\"C:\\Users\\Peter\\Desktop\\preprocessed_cases[cases_29404]\\32\"):\n",
        "    count += len(files)\n",
        "print('file count32:', count)\n",
        "\n",
        "import os\n",
        "\n",
        "count = 0\n",
        "for root_dir, cur_dir, files in os.walk(r\"C:\\Users\\Peter\\Desktop\\preprocessed_cases[cases_29404]\\33\"):\n",
        "    count += len(files)\n",
        "print('file count33:', count)\n",
        "\n",
        "import os\n",
        "\n",
        "count = 0\n",
        "for root_dir, cur_dir, files in os.walk(r\"C:\\Users\\Peter\\Desktop\\preprocessed_cases[cases_29404]\\34\"):\n",
        "    count += len(files)\n",
        "print('file count34:', count)\n",
        "\n",
        "import os\n",
        "\n",
        "count = 0\n",
        "for root_dir, cur_dir, files in os.walk(r\"C:\\Users\\Peter\\Desktop\\preprocessed_cases[cases_29404]\\35\"):\n",
        "    count += len(files)\n",
        "print('file count35:', count)\n",
        "\n",
        "import os\n",
        "\n",
        "count = 0\n",
        "for root_dir, cur_dir, files in os.walk(r\"C:\\Users\\Peter\\Desktop\\preprocessed_cases[cases_29404]\\36\"):\n",
        "    count += len(files)\n",
        "print('file count36:', count)\n",
        "\n",
        "import os\n",
        "\n",
        "count = 0\n",
        "for root_dir, cur_dir, files in os.walk(r\"C:\\Users\\Peter\\Desktop\\preprocessed_cases[cases_29404]\\37\"):\n",
        "    count += len(files)\n",
        "print('file count37:', count)\n",
        "\n",
        "import os\n",
        "\n",
        "count = 0\n",
        "for root_dir, cur_dir, files in os.walk(r\"C:\\Users\\Peter\\Desktop\\preprocessed_cases[cases_29404]\\38\"):\n",
        "    count += len(files)\n",
        "print('file count38:', count)\n",
        "\n",
        "import os\n",
        "\n",
        "count = 0\n",
        "for root_dir, cur_dir, files in os.walk(r\"C:\\Users\\Peter\\Desktop\\preprocessed_cases[cases_29404]\\39\"):\n",
        "    count += len(files)\n",
        "print('file count39:', count)\n",
        "\n",
        "import os\n",
        "\n",
        "count = 0\n",
        "for root_dir, cur_dir, files in os.walk(r\"C:\\Users\\Peter\\Desktop\\preprocessed_cases[cases_29404]\\40\"):\n",
        "    count += len(files)\n",
        "print('file count40:', count)\n",
        "\n",
        "\n",
        "\n",
        "import os\n",
        "\n",
        "count = 0\n",
        "for root_dir, cur_dir, files in os.walk(r\"C:\\Users\\Peter\\Desktop\\preprocessed_cases[cases_29404]\\41\"):\n",
        "    count += len(files)\n",
        "print('file count41:', count)\n",
        "\n",
        "import os\n",
        "\n",
        "count = 0\n",
        "for root_dir, cur_dir, files in os.walk(r\"C:\\Users\\Peter\\Desktop\\preprocessed_cases[cases_29404]\\42\"):\n",
        "    count += len(files)\n",
        "print('file count42:', count)\n",
        "\n",
        "import os\n",
        "\n",
        "count = 0\n",
        "for root_dir, cur_dir, files in os.walk(r\"C:\\Users\\Peter\\Desktop\\preprocessed_cases[cases_29404]\\43\"):\n",
        "    count += len(files)\n",
        "print('file count43:', count)\n",
        "\n",
        "import os\n",
        "\n",
        "count = 0\n",
        "for root_dir, cur_dir, files in os.walk(r\"C:\\Users\\Peter\\Desktop\\preprocessed_cases[cases_29404]\\44\"):\n",
        "    count += len(files)\n",
        "print('file count44:', count)\n",
        "\n",
        "import os\n",
        "\n",
        "count = 0\n",
        "for root_dir, cur_dir, files in os.walk(r\"C:\\Users\\Peter\\Desktop\\preprocessed_cases[cases_29404]\\45\"):\n",
        "    count += len(files)\n",
        "print('file count45:', count)\n",
        "\n",
        "import os\n",
        "\n",
        "count = 0\n",
        "for root_dir, cur_dir, files in os.walk(r\"C:\\Users\\Peter\\Desktop\\preprocessed_cases[cases_29404]\\46\"):\n",
        "    count += len(files)\n",
        "print('file count46:', count)\n",
        "\n",
        "import os\n",
        "\n",
        "count = 0\n",
        "for root_dir, cur_dir, files in os.walk(r\"C:\\Users\\Peter\\Desktop\\preprocessed_cases[cases_29404]\\47\"):\n",
        "    count += len(files)\n",
        "print('file count47:', count)\n",
        "\n",
        "import os\n",
        "\n",
        "count = 0\n",
        "for root_dir, cur_dir, files in os.walk(r\"C:\\Users\\Peter\\Desktop\\preprocessed_cases[cases_29404]\\48\"):\n",
        "    count += len(files)\n",
        "print('file count48:', count)\n",
        "\n",
        "import os\n",
        "\n",
        "count = 0\n",
        "for root_dir, cur_dir, files in os.walk(r\"C:\\Users\\Peter\\Desktop\\preprocessed_cases[cases_29404]\\49\"):\n",
        "    count += len(files)\n",
        "print('file count49:', count)\n",
        "\n",
        "import os\n",
        "\n",
        "count = 0\n",
        "for root_dir, cur_dir, files in os.walk(r\"C:\\Users\\Peter\\Desktop\\preprocessed_cases[cases_29404]\\50\"):\n",
        "    count += len(files)\n",
        "print('file count50:', count)\n",
        "\n",
        "\n",
        "\n",
        "import os\n",
        "\n",
        "count = 0\n",
        "for root_dir, cur_dir, files in os.walk(r\"C:\\Users\\Peter\\Desktop\\preprocessed_cases[cases_29404]\\51\"):\n",
        "    count += len(files)\n",
        "print('file count51:', count)\n",
        "\n",
        "import os\n",
        "\n",
        "count = 0\n",
        "for root_dir, cur_dir, files in os.walk(r\"C:\\Users\\Peter\\Desktop\\preprocessed_cases[cases_29404]\\52\"):\n",
        "    count += len(files)\n",
        "print('file count52:', count)\n",
        "\n",
        "import os\n",
        "\n",
        "count = 0\n",
        "for root_dir, cur_dir, files in os.walk(r\"C:\\Users\\Peter\\Desktop\\preprocessed_cases[cases_29404]\\53\"):\n",
        "    count += len(files)\n",
        "print('file count53:', count)\n",
        "\n",
        "import os\n",
        "\n",
        "count = 0\n",
        "for root_dir, cur_dir, files in os.walk(r\"C:\\Users\\Peter\\Desktop\\preprocessed_cases[cases_29404]\\54\"):\n",
        "    count += len(files)\n",
        "print('file count54:', count)\n",
        "\n",
        "import os\n",
        "\n",
        "count = 0\n",
        "for root_dir, cur_dir, files in os.walk(r\"C:\\Users\\Peter\\Desktop\\preprocessed_cases[cases_29404]\\55\"):\n",
        "    count += len(files)\n",
        "print('file count55:', count)\n",
        "\n",
        "import os\n",
        "\n",
        "count = 0\n",
        "for root_dir, cur_dir, files in os.walk(r\"C:\\Users\\Peter\\Desktop\\preprocessed_cases[cases_29404]\\56\"):\n",
        "    count += len(files)\n",
        "print('file count56:', count)\n",
        "\n",
        "import os\n",
        "\n",
        "count = 0\n",
        "for root_dir, cur_dir, files in os.walk(r\"C:\\Users\\Peter\\Desktop\\preprocessed_cases[cases_29404]\\57\"):\n",
        "    count += len(files)\n",
        "print('file count57:', count)\n",
        "\n",
        "import os\n",
        "\n",
        "count = 0\n",
        "for root_dir, cur_dir, files in os.walk(r\"C:\\Users\\Peter\\Desktop\\preprocessed_cases[cases_29404]\\58\"):\n",
        "    count += len(files)\n",
        "print('file count58:', count)\n",
        "\n",
        "import os\n",
        "\n",
        "count = 0\n",
        "for root_dir, cur_dir, files in os.walk(r\"C:\\Users\\Peter\\Desktop\\preprocessed_cases[cases_29404]\\59\"):\n",
        "    count += len(files)\n",
        "print('file count59:', count)\n",
        "\n",
        "import os\n",
        "\n",
        "count = 0\n",
        "for root_dir, cur_dir, files in os.walk(r\"C:\\Users\\Peter\\Desktop\\preprocessed_cases[cases_29404]\\60\"):\n",
        "    count += len(files)\n",
        "print('file count60:', count)\n",
        "\n",
        "\n",
        "\n",
        "import os\n",
        "\n",
        "count = 0\n",
        "for root_dir, cur_dir, files in os.walk(r\"C:\\Users\\Peter\\Desktop\\preprocessed_cases[cases_29404]\\61\"):\n",
        "    count += len(files)\n",
        "print('file count61:', count)\n",
        "\n",
        "import os\n",
        "\n",
        "count = 0\n",
        "for root_dir, cur_dir, files in os.walk(r\"C:\\Users\\Peter\\Desktop\\preprocessed_cases[cases_29404]\\62\"):\n",
        "    count += len(files)\n",
        "print('file count62:', count)\n",
        "\n",
        "import os\n",
        "\n",
        "count = 0\n",
        "for root_dir, cur_dir, files in os.walk(r\"C:\\Users\\Peter\\Desktop\\preprocessed_cases[cases_29404]\\63\"):\n",
        "    count += len(files)\n",
        "print('file count63:', count)\n",
        "\n",
        "import os\n",
        "\n",
        "count = 0\n",
        "for root_dir, cur_dir, files in os.walk(r\"C:\\Users\\Peter\\Desktop\\preprocessed_cases[cases_29404]\\64\"):\n",
        "    count += len(files)\n",
        "print('file count64:', count)\n",
        "\n",
        "import os\n",
        "\n",
        "count = 0\n",
        "for root_dir, cur_dir, files in os.walk(r\"C:\\Users\\Peter\\Desktop\\preprocessed_cases[cases_29404]\\65\"):\n",
        "    count += len(files)\n",
        "print('file count65:', count)\n",
        "\n",
        "import os\n",
        "\n",
        "count = 0\n",
        "for root_dir, cur_dir, files in os.walk(r\"C:\\Users\\Peter\\Desktop\\preprocessed_cases[cases_29404]\\66\"):\n",
        "    count += len(files)\n",
        "print('file count66:', count)\n",
        "\n",
        "import os\n",
        "\n",
        "count = 0\n",
        "for root_dir, cur_dir, files in os.walk(r\"C:\\Users\\Peter\\Desktop\\preprocessed_cases[cases_29404]\\67\"):\n",
        "    count += len(files)\n",
        "print('file count67:', count)\n",
        "\n",
        "import os\n",
        "\n",
        "count = 0\n",
        "for root_dir, cur_dir, files in os.walk(r\"C:\\Users\\Peter\\Desktop\\preprocessed_cases[cases_29404]\\68\"):\n",
        "    count += len(files)\n",
        "print('file count68:', count)\n",
        "\n",
        "import os\n",
        "\n",
        "count = 0\n",
        "for root_dir, cur_dir, files in os.walk(r\"C:\\Users\\Peter\\Desktop\\preprocessed_cases[cases_29404]\\69\"):\n",
        "    count += len(files)\n",
        "print('file count69:', count)\n",
        "\n",
        "import os\n",
        "\n",
        "count = 0\n",
        "for root_dir, cur_dir, files in os.walk(r\"C:\\Users\\Peter\\Desktop\\preprocessed_cases[cases_29404]\\70\"):\n",
        "    count += len(files)\n",
        "print('file count70:', count)\n",
        "\n",
        "\n",
        "\n",
        "import os\n",
        "\n",
        "count = 0\n",
        "for root_dir, cur_dir, files in os.walk(r\"C:\\Users\\Peter\\Desktop\\preprocessed_cases[cases_29404]\\71\"):\n",
        "    count += len(files)\n",
        "print('file count71:', count)\n",
        "\n",
        "import os\n",
        "\n",
        "count = 0\n",
        "for root_dir, cur_dir, files in os.walk(r\"C:\\Users\\Peter\\Desktop\\preprocessed_cases[cases_29404]\\72\"):\n",
        "    count += len(files)\n",
        "print('file count72:', count)\n",
        "\n",
        "import os\n",
        "\n",
        "count = 0\n",
        "for root_dir, cur_dir, files in os.walk(r\"C:\\Users\\Peter\\Desktop\\preprocessed_cases[cases_29404]\\73\"):\n",
        "    count += len(files)\n",
        "print('file count73:', count)\n",
        "\n",
        "import os\n",
        "\n",
        "count = 0\n",
        "for root_dir, cur_dir, files in os.walk(r\"C:\\Users\\Peter\\Desktop\\preprocessed_cases[cases_29404]\\74\"):\n",
        "    count += len(files)\n",
        "print('file count74:', count)\n",
        "\n",
        "import os\n",
        "\n",
        "count = 0\n",
        "for root_dir, cur_dir, files in os.walk(r\"C:\\Users\\Peter\\Desktop\\preprocessed_cases[cases_29404]\\75\"):\n",
        "    count += len(files)\n",
        "print('file count75:', count)\n",
        "\n",
        "import os\n",
        "\n",
        "count = 0\n",
        "for root_dir, cur_dir, files in os.walk(r\"C:\\Users\\Peter\\Desktop\\preprocessed_cases[cases_29404]\\76\"):\n",
        "    count += len(files)\n",
        "print('file count76:', count)\n",
        "\n",
        "import os\n",
        "\n",
        "count = 0\n",
        "for root_dir, cur_dir, files in os.walk(r\"C:\\Users\\Peter\\Desktop\\preprocessed_cases[cases_29404]\\77\"):\n",
        "    count += len(files)\n",
        "print('file count77:', count)\n",
        "\n",
        "import os\n",
        "\n",
        "count = 0\n",
        "for root_dir, cur_dir, files in os.walk(r\"C:\\Users\\Peter\\Desktop\\preprocessed_cases[cases_29404]\\78\"):\n",
        "    count += len(files)\n",
        "print('file count78:', count)\n",
        "\n",
        "#import os\n",
        "#list = os.listdir(r\"C:\\Users\\Peter\\Desktop\\preprocessed_cases[cases_29404]\") \n",
        "#number_of_folders = len(list)\n",
        "#print (number_of_folders)"
      ],
      "metadata": {
        "id": "J3dUvIvemdfM"
      },
      "execution_count": null,
      "outputs": []
    },
    {
      "cell_type": "markdown",
      "source": [
        "Question 1(Using anaconda, the results obtained are below.)\n",
        "The Question 1 (i) There are 76 categories in total\n",
        "\t   (ii) The number documents under each category are detailed below\n",
        "\n",
        "file count1: 775\n",
        "\n",
        "file count2: 179\n",
        "\n",
        "file count3: 184\n",
        "\n",
        "file count4: 231\n",
        "\n",
        "file count5: 751\n",
        "\n",
        "file count6: 380\n",
        "\n",
        "file count7: 621\n",
        "\n",
        "file count8: 521\n",
        "\n",
        "file count9: 744\n",
        "\n",
        "file count10: 584\n",
        "\n",
        "file count11: 605\n",
        "\n",
        "file count12: 275\n",
        "\n",
        "file count13: 458\n",
        "\n",
        "file count14: 277\n",
        "\n",
        "file count15: 257\n",
        "\n",
        "file count16: 826\n",
        "\n",
        "file count17: 125\n",
        "\n",
        "file count18: 509\n",
        "\n",
        "file count19: 349\n",
        "\n",
        "file count20: 1129\n",
        "\n",
        "file count21: 735\n",
        "\n",
        "file count22: 284\n",
        "\n",
        "file count23: 179\n",
        "\n",
        "file count24: 628\n",
        "\n",
        "file count25: 244\n",
        "\n",
        "file count26: 754\n",
        "\n",
        "file count27: 77\n",
        "\n",
        "file count28: 315\n",
        "\n",
        "file count29: 213\n",
        "\n",
        "file count30: 881\n",
        "\n",
        "file count31: 516\n",
        "\n",
        "file count32: 118\n",
        "\n",
        "file count33: 272\n",
        "\n",
        "file count34: 786\n",
        "\n",
        "file count35: 68\n",
        "\n",
        "file count36: 889\n",
        "\n",
        "file count37: 74\n",
        "\n",
        "file count38: 503\n",
        "\n",
        "file count39: 261\n",
        "\n",
        "file count40: 510\n",
        "\n",
        "file count41: 1020\n",
        "\n",
        "file count42: 1292\n",
        "\n",
        "file count43: 234\n",
        "\n",
        "file count44: 825\n",
        "\n",
        "file count45: 1085\n",
        "\n",
        "file count47: 151\n",
        "\n",
        "file count49: 17\n",
        "\n",
        "file count50: 68\n",
        "\n",
        "file count51: 225\n",
        "\n",
        "file count52: 318\n",
        "\n",
        "file count53: 142\n",
        "\n",
        "file count54: 95\n",
        "\n",
        "file count55: 48\n",
        "\n",
        "file count56: 395\n",
        "\n",
        "file count57: 108\n",
        "\n",
        "file count58: 150\n",
        "\n",
        "file count59: 51\n",
        "\n",
        "file count60: 42\n",
        "\n",
        "file count61: 181\n",
        "\n",
        "file count62: 218\n",
        "\n",
        "file count63: 194\n",
        "\n",
        "file count64: 130\n",
        "\n",
        "file count65: 276\n",
        "\n",
        "file count66: 207\n",
        "\n",
        "file count67: 356\n",
        "\n",
        "file count68: 263\n",
        "\n",
        "file count69: 700\n",
        "\n",
        "file count70: 192\n",
        "\n",
        "file count71: 457\n",
        "\n",
        "file count72: 74\n",
        "\n",
        "file count73: 705\n",
        "\n",
        "file count74: 60\n",
        "\n",
        "file count75: 473\n",
        "\n",
        "file count76: 177\n",
        "\n",
        "file count77: 146\n",
        "\n",
        "file count78: 242\n",
        "\n",
        "Folder number 46 and 48 is not there that’s why the total is 76\n"
      ],
      "metadata": {
        "id": "LcO_l4VMedB0"
      }
    },
    {
      "cell_type": "code",
      "source": [
        "#Question2 No 1 \n",
        "import numpy as np\n",
        "import pandas as pd\n",
        "import matplotlib.pyplot as plt\n",
        "%matplotlib inline\n",
        "import seaborn as sns\n",
        "\n",
        "# reading the data from a CSV file into a Pandas DataFrame naming it as df here.\n",
        "df = pd.read_csv('https://raw.githubusercontent.com/suthapalliuday/INFO5502-Summer2022/main/datasets/lab-assignment-04-student-performance.csv')\n",
        "# we get the description of the data we have in our data frame\n",
        "df.info()"
      ],
      "metadata": {
        "colab": {
          "base_uri": "https://localhost:8080/"
        },
        "id": "Wi9kRuuznSEQ",
        "outputId": "5af5224e-b3fe-4a1c-8a09-23eb009c7a11"
      },
      "execution_count": 56,
      "outputs": [
        {
          "output_type": "stream",
          "name": "stdout",
          "text": [
            "<class 'pandas.core.frame.DataFrame'>\n",
            "RangeIndex: 131 entries, 0 to 130\n",
            "Data columns (total 22 columns):\n",
            " #   Column  Non-Null Count  Dtype \n",
            "---  ------  --------------  ----- \n",
            " 0   ge      131 non-null    object\n",
            " 1   cst     131 non-null    object\n",
            " 2   tnp     131 non-null    object\n",
            " 3   twp     131 non-null    object\n",
            " 4   iap     131 non-null    object\n",
            " 5   esp     131 non-null    object\n",
            " 6   arr     131 non-null    object\n",
            " 7   ms      131 non-null    object\n",
            " 8   ls      131 non-null    object\n",
            " 9   as      131 non-null    object\n",
            " 10  fmi     131 non-null    object\n",
            " 11  fs      131 non-null    object\n",
            " 12  fq      131 non-null    object\n",
            " 13  mq      131 non-null    object\n",
            " 14  fo      131 non-null    object\n",
            " 15  mo      131 non-null    object\n",
            " 16  nf      131 non-null    object\n",
            " 17  sh      131 non-null    object\n",
            " 18  ss      131 non-null    object\n",
            " 19  me      131 non-null    object\n",
            " 20  tt      131 non-null    object\n",
            " 21  atd     131 non-null    object\n",
            "dtypes: object(22)\n",
            "memory usage: 22.6+ KB\n"
          ]
        }
      ]
    },
    {
      "cell_type": "code",
      "source": [
        "# description of each column and number of unqiue element, the frequency of each unqiue element.\n",
        "df['ge'].describe()"
      ],
      "metadata": {
        "colab": {
          "base_uri": "https://localhost:8080/"
        },
        "id": "WnUJUjn0nxTD",
        "outputId": "38ef2674-8d39-4530-808f-ca8ae03b185c"
      },
      "execution_count": 5,
      "outputs": [
        {
          "output_type": "execute_result",
          "data": {
            "text/plain": [
              "count     131\n",
              "unique      2\n",
              "top         M\n",
              "freq       72\n",
              "Name: ge, dtype: object"
            ]
          },
          "metadata": {},
          "execution_count": 5
        }
      ]
    },
    {
      "cell_type": "code",
      "source": [
        "df['cst'].describe()"
      ],
      "metadata": {
        "colab": {
          "base_uri": "https://localhost:8080/"
        },
        "id": "NlW-6n6qLMZt",
        "outputId": "18a9b167-a221-494d-aa81-55427f3cc4be"
      },
      "execution_count": 9,
      "outputs": [
        {
          "output_type": "execute_result",
          "data": {
            "text/plain": [
              "count     131\n",
              "unique      5\n",
              "top       OBC\n",
              "freq       57\n",
              "Name: cst, dtype: object"
            ]
          },
          "metadata": {},
          "execution_count": 9
        }
      ]
    },
    {
      "cell_type": "code",
      "source": [
        "df['tnp'].describe()"
      ],
      "metadata": {
        "colab": {
          "base_uri": "https://localhost:8080/"
        },
        "id": "1ueQiV9aLV-W",
        "outputId": "c554695b-9181-4c24-a171-afec457f206e"
      },
      "execution_count": 10,
      "outputs": [
        {
          "output_type": "execute_result",
          "data": {
            "text/plain": [
              "count      131\n",
              "unique       4\n",
              "top       Good\n",
              "freq        59\n",
              "Name: tnp, dtype: object"
            ]
          },
          "metadata": {},
          "execution_count": 10
        }
      ]
    },
    {
      "cell_type": "code",
      "source": [
        "df['twp'].describe()"
      ],
      "metadata": {
        "colab": {
          "base_uri": "https://localhost:8080/"
        },
        "id": "8lUO9KevLYON",
        "outputId": "730ac358-4fed-4733-d122-92cd5351fe71"
      },
      "execution_count": 11,
      "outputs": [
        {
          "output_type": "execute_result",
          "data": {
            "text/plain": [
              "count      131\n",
              "unique       4\n",
              "top       Good\n",
              "freq        65\n",
              "Name: twp, dtype: object"
            ]
          },
          "metadata": {},
          "execution_count": 11
        }
      ]
    },
    {
      "cell_type": "code",
      "source": [
        "df['iap'].describe()"
      ],
      "metadata": {
        "colab": {
          "base_uri": "https://localhost:8080/"
        },
        "id": "42vc7HOgLsTd",
        "outputId": "e46b79ec-f058-4836-c1ca-05616928a9bf"
      },
      "execution_count": 12,
      "outputs": [
        {
          "output_type": "execute_result",
          "data": {
            "text/plain": [
              "Vg      63\n",
              "Good    53\n",
              "Best     8\n",
              "Pass     7\n",
              "Name: iap, dtype: int64"
            ]
          },
          "metadata": {},
          "execution_count": 12
        }
      ]
    },
    {
      "cell_type": "code",
      "source": [
        "df['esp'].describe()"
      ],
      "metadata": {
        "colab": {
          "base_uri": "https://localhost:8080/"
        },
        "id": "s_6e_rkELxie",
        "outputId": "f1f706d1-e38f-4eb2-b2c8-d967785e5fbd"
      },
      "execution_count": 13,
      "outputs": [
        {
          "output_type": "execute_result",
          "data": {
            "text/plain": [
              "Good    54\n",
              "Vg      42\n",
              "Pass    27\n",
              "Best     8\n",
              "Name: esp, dtype: int64"
            ]
          },
          "metadata": {},
          "execution_count": 13
        }
      ]
    },
    {
      "cell_type": "code",
      "source": [
        "df['arr'].describe()"
      ],
      "metadata": {
        "colab": {
          "base_uri": "https://localhost:8080/"
        },
        "id": "GLA69rsSL8kI",
        "outputId": "8cddcc0b-870c-49e2-aebd-3aeb9a6976a9"
      },
      "execution_count": 14,
      "outputs": [
        {
          "output_type": "execute_result",
          "data": {
            "text/plain": [
              "count     131\n",
              "unique      2\n",
              "top         N\n",
              "freq       78\n",
              "Name: arr, dtype: object"
            ]
          },
          "metadata": {},
          "execution_count": 14
        }
      ]
    },
    {
      "cell_type": "code",
      "source": [
        "df['ms'].describe()"
      ],
      "metadata": {
        "colab": {
          "base_uri": "https://localhost:8080/"
        },
        "id": "Kgg4wDq7ME1v",
        "outputId": "19265c5f-aa43-455c-e258-4ac092f2ec1e"
      },
      "execution_count": 19,
      "outputs": [
        {
          "output_type": "execute_result",
          "data": {
            "text/plain": [
              "count           131\n",
              "unique            1\n",
              "top       Unmarried\n",
              "freq            131\n",
              "Name: ms, dtype: object"
            ]
          },
          "metadata": {},
          "execution_count": 19
        }
      ]
    },
    {
      "cell_type": "code",
      "source": [
        "df['ls'].describe()"
      ],
      "metadata": {
        "colab": {
          "base_uri": "https://localhost:8080/"
        },
        "id": "fKWu_a1uMKUW",
        "outputId": "3fdc3268-1123-42d5-d2f8-055e209c5f24"
      },
      "execution_count": 18,
      "outputs": [
        {
          "output_type": "execute_result",
          "data": {
            "text/plain": [
              "count     131\n",
              "unique      2\n",
              "top         V\n",
              "freq       92\n",
              "Name: ls, dtype: object"
            ]
          },
          "metadata": {},
          "execution_count": 18
        }
      ]
    },
    {
      "cell_type": "code",
      "source": [
        "df['as'].describe()"
      ],
      "metadata": {
        "colab": {
          "base_uri": "https://localhost:8080/"
        },
        "id": "-uWB7S1iMSVa",
        "outputId": "8ff62d3c-0a24-418a-f4f4-b8f88434f33e"
      },
      "execution_count": 34,
      "outputs": [
        {
          "output_type": "execute_result",
          "data": {
            "text/plain": [
              "count      131\n",
              "unique       2\n",
              "top       Paid\n",
              "freq        76\n",
              "Name: as, dtype: object"
            ]
          },
          "metadata": {},
          "execution_count": 34
        }
      ]
    },
    {
      "cell_type": "code",
      "source": [
        "df['fmi'].describe()"
      ],
      "metadata": {
        "colab": {
          "base_uri": "https://localhost:8080/"
        },
        "id": "bCvBCE9sMew7",
        "outputId": "db954fd7-a6c9-4c15-fe36-bb8ac452020f"
      },
      "execution_count": 35,
      "outputs": [
        {
          "output_type": "execute_result",
          "data": {
            "text/plain": [
              "count        131\n",
              "unique         5\n",
              "top       Medium\n",
              "freq          63\n",
              "Name: fmi, dtype: object"
            ]
          },
          "metadata": {},
          "execution_count": 35
        }
      ]
    },
    {
      "cell_type": "code",
      "source": [
        "df['fs'].describe()"
      ],
      "metadata": {
        "colab": {
          "base_uri": "https://localhost:8080/"
        },
        "id": "bMDA6OjfMosh",
        "outputId": "632d7aba-6e13-45bd-9a62-2c5262b219c5"
      },
      "execution_count": 32,
      "outputs": [
        {
          "output_type": "execute_result",
          "data": {
            "text/plain": [
              "count       131\n",
              "unique        3\n",
              "top       Small\n",
              "freq         89\n",
              "Name: fs, dtype: object"
            ]
          },
          "metadata": {},
          "execution_count": 32
        }
      ]
    },
    {
      "cell_type": "code",
      "source": [
        "df['fq'].describe()"
      ],
      "metadata": {
        "colab": {
          "base_uri": "https://localhost:8080/"
        },
        "id": "FrJdsIg0MxQO",
        "outputId": "87712ef2-e376-4ab0-bcd3-037aa861bc92"
      },
      "execution_count": 31,
      "outputs": [
        {
          "output_type": "execute_result",
          "data": {
            "text/plain": [
              "count     131\n",
              "unique      6\n",
              "top        Um\n",
              "freq       40\n",
              "Name: fq, dtype: object"
            ]
          },
          "metadata": {},
          "execution_count": 31
        }
      ]
    },
    {
      "cell_type": "code",
      "source": [
        "df['mq'].describe()"
      ],
      "metadata": {
        "colab": {
          "base_uri": "https://localhost:8080/"
        },
        "id": "rsyq9e9iM4Nq",
        "outputId": "5d7b886e-964c-4de5-9b5a-891154f18622"
      },
      "execution_count": 30,
      "outputs": [
        {
          "output_type": "execute_result",
          "data": {
            "text/plain": [
              "count     131\n",
              "unique      6\n",
              "top        Um\n",
              "freq       52\n",
              "Name: mq, dtype: object"
            ]
          },
          "metadata": {},
          "execution_count": 30
        }
      ]
    },
    {
      "cell_type": "code",
      "source": [
        "df['fo'].describe()"
      ],
      "metadata": {
        "colab": {
          "base_uri": "https://localhost:8080/"
        },
        "id": "YN-Jj1nQM9f3",
        "outputId": "546d3697-4309-4b5a-b7ff-443b62f529c7"
      },
      "execution_count": 29,
      "outputs": [
        {
          "output_type": "execute_result",
          "data": {
            "text/plain": [
              "count         131\n",
              "unique          5\n",
              "top       Service\n",
              "freq           38\n",
              "Name: fo, dtype: object"
            ]
          },
          "metadata": {},
          "execution_count": 29
        }
      ]
    },
    {
      "cell_type": "code",
      "source": [
        "df['mo'].describe()\n"
      ],
      "metadata": {
        "colab": {
          "base_uri": "https://localhost:8080/"
        },
        "id": "wMn1UXe8NJIt",
        "outputId": "0dfe1400-16c2-4d65-c38e-381030c5a65a"
      },
      "execution_count": 28,
      "outputs": [
        {
          "output_type": "execute_result",
          "data": {
            "text/plain": [
              "count           131\n",
              "unique            5\n",
              "top       Housewife\n",
              "freq            115\n",
              "Name: mo, dtype: object"
            ]
          },
          "metadata": {},
          "execution_count": 28
        }
      ]
    },
    {
      "cell_type": "code",
      "source": [
        "df['nf'].describe()"
      ],
      "metadata": {
        "colab": {
          "base_uri": "https://localhost:8080/"
        },
        "id": "wVEWedvINNS9",
        "outputId": "66cee729-bab1-481e-f354-502014cd473d"
      },
      "execution_count": 27,
      "outputs": [
        {
          "output_type": "execute_result",
          "data": {
            "text/plain": [
              "count       131\n",
              "unique        3\n",
              "top       Large\n",
              "freq         58\n",
              "Name: nf, dtype: object"
            ]
          },
          "metadata": {},
          "execution_count": 27
        }
      ]
    },
    {
      "cell_type": "code",
      "source": [
        "df['sh'].describe()"
      ],
      "metadata": {
        "colab": {
          "base_uri": "https://localhost:8080/"
        },
        "id": "LIWMaU-iobl9",
        "outputId": "12932d0b-ba2a-4e22-8ea4-d1ed3de0364b"
      },
      "execution_count": 6,
      "outputs": [
        {
          "output_type": "execute_result",
          "data": {
            "text/plain": [
              "count         131\n",
              "unique          3\n",
              "top       Average\n",
              "freq           59\n",
              "Name: sh, dtype: object"
            ]
          },
          "metadata": {},
          "execution_count": 6
        }
      ]
    },
    {
      "cell_type": "code",
      "source": [
        "df['ss'].describe()"
      ],
      "metadata": {
        "colab": {
          "base_uri": "https://localhost:8080/"
        },
        "id": "iF9MV6pdoph-",
        "outputId": "25e5eae4-de1d-4c99-e24b-d99ef7017324"
      },
      "execution_count": 42,
      "outputs": [
        {
          "output_type": "execute_result",
          "data": {
            "text/plain": [
              "count      131\n",
              "unique       2\n",
              "top       Govt\n",
              "freq        91\n",
              "Name: ss, dtype: object"
            ]
          },
          "metadata": {},
          "execution_count": 42
        }
      ]
    },
    {
      "cell_type": "code",
      "source": [
        "df['me'].describe()"
      ],
      "metadata": {
        "colab": {
          "base_uri": "https://localhost:8080/"
        },
        "id": "BZOq1H4touuW",
        "outputId": "4d3cf058-0bdb-45fd-d0cb-879ecd3756a7"
      },
      "execution_count": 43,
      "outputs": [
        {
          "output_type": "execute_result",
          "data": {
            "text/plain": [
              "count     131\n",
              "unique      4\n",
              "top       Eng\n",
              "freq       62\n",
              "Name: me, dtype: object"
            ]
          },
          "metadata": {},
          "execution_count": 43
        }
      ]
    },
    {
      "cell_type": "code",
      "source": [
        "df['tt'].describe()"
      ],
      "metadata": {
        "colab": {
          "base_uri": "https://localhost:8080/"
        },
        "id": "Dz6Sup94o0T-",
        "outputId": "84c9b144-f083-4999-a706-890687b22703"
      },
      "execution_count": 44,
      "outputs": [
        {
          "output_type": "execute_result",
          "data": {
            "text/plain": [
              "count       131\n",
              "unique        3\n",
              "top       Small\n",
              "freq         78\n",
              "Name: tt, dtype: object"
            ]
          },
          "metadata": {},
          "execution_count": 44
        }
      ]
    },
    {
      "cell_type": "code",
      "source": [
        "df['atd'].describe()"
      ],
      "metadata": {
        "colab": {
          "base_uri": "https://localhost:8080/"
        },
        "id": "RUGZHx62o5ep",
        "outputId": "9372cfea-88ed-4030-bda7-c79c5cb2814c"
      },
      "execution_count": 45,
      "outputs": [
        {
          "output_type": "execute_result",
          "data": {
            "text/plain": [
              "count      131\n",
              "unique       3\n",
              "top       Good\n",
              "freq        56\n",
              "Name: atd, dtype: object"
            ]
          },
          "metadata": {},
          "execution_count": 45
        }
      ]
    },
    {
      "cell_type": "code",
      "source": [
        "df.describe() #to count the number of rows in each column"
      ],
      "metadata": {
        "colab": {
          "base_uri": "https://localhost:8080/",
          "height": 204
        },
        "id": "wx80LbX1pAWj",
        "outputId": "3f3054c4-2fed-4a8f-8515-60e0d49a2422"
      },
      "execution_count": 51,
      "outputs": [
        {
          "output_type": "execute_result",
          "data": {
            "text/plain": [
              "         ge  cst   tnp   twp  iap   esp  arr         ms   ls    as  ...   fq  \\\n",
              "count   131  131   131   131  131   131  131        131  131   131  ...  131   \n",
              "unique    2    5     4     4    4     4    2          1    2     2  ...    6   \n",
              "top       M  OBC  Good  Good   Vg  Good    N  Unmarried    V  Paid  ...   Um   \n",
              "freq     72   57    59    65   63    54   78        131   92    76  ...   40   \n",
              "\n",
              "         mq       fo         mo     nf       sh    ss   me     tt   atd  \n",
              "count   131      131        131    131      131   131  131    131   131  \n",
              "unique    6        5          5      3        3     2    4      3     3  \n",
              "top      Um  Service  Housewife  Large  Average  Govt  Eng  Small  Good  \n",
              "freq     52       38        115     58       59    91   62     78    56  \n",
              "\n",
              "[4 rows x 22 columns]"
            ],
            "text/html": [
              "\n",
              "  <div id=\"df-879299cd-3ee6-441d-a661-e36d00bde15e\">\n",
              "    <div class=\"colab-df-container\">\n",
              "      <div>\n",
              "<style scoped>\n",
              "    .dataframe tbody tr th:only-of-type {\n",
              "        vertical-align: middle;\n",
              "    }\n",
              "\n",
              "    .dataframe tbody tr th {\n",
              "        vertical-align: top;\n",
              "    }\n",
              "\n",
              "    .dataframe thead th {\n",
              "        text-align: right;\n",
              "    }\n",
              "</style>\n",
              "<table border=\"1\" class=\"dataframe\">\n",
              "  <thead>\n",
              "    <tr style=\"text-align: right;\">\n",
              "      <th></th>\n",
              "      <th>ge</th>\n",
              "      <th>cst</th>\n",
              "      <th>tnp</th>\n",
              "      <th>twp</th>\n",
              "      <th>iap</th>\n",
              "      <th>esp</th>\n",
              "      <th>arr</th>\n",
              "      <th>ms</th>\n",
              "      <th>ls</th>\n",
              "      <th>as</th>\n",
              "      <th>...</th>\n",
              "      <th>fq</th>\n",
              "      <th>mq</th>\n",
              "      <th>fo</th>\n",
              "      <th>mo</th>\n",
              "      <th>nf</th>\n",
              "      <th>sh</th>\n",
              "      <th>ss</th>\n",
              "      <th>me</th>\n",
              "      <th>tt</th>\n",
              "      <th>atd</th>\n",
              "    </tr>\n",
              "  </thead>\n",
              "  <tbody>\n",
              "    <tr>\n",
              "      <th>count</th>\n",
              "      <td>131</td>\n",
              "      <td>131</td>\n",
              "      <td>131</td>\n",
              "      <td>131</td>\n",
              "      <td>131</td>\n",
              "      <td>131</td>\n",
              "      <td>131</td>\n",
              "      <td>131</td>\n",
              "      <td>131</td>\n",
              "      <td>131</td>\n",
              "      <td>...</td>\n",
              "      <td>131</td>\n",
              "      <td>131</td>\n",
              "      <td>131</td>\n",
              "      <td>131</td>\n",
              "      <td>131</td>\n",
              "      <td>131</td>\n",
              "      <td>131</td>\n",
              "      <td>131</td>\n",
              "      <td>131</td>\n",
              "      <td>131</td>\n",
              "    </tr>\n",
              "    <tr>\n",
              "      <th>unique</th>\n",
              "      <td>2</td>\n",
              "      <td>5</td>\n",
              "      <td>4</td>\n",
              "      <td>4</td>\n",
              "      <td>4</td>\n",
              "      <td>4</td>\n",
              "      <td>2</td>\n",
              "      <td>1</td>\n",
              "      <td>2</td>\n",
              "      <td>2</td>\n",
              "      <td>...</td>\n",
              "      <td>6</td>\n",
              "      <td>6</td>\n",
              "      <td>5</td>\n",
              "      <td>5</td>\n",
              "      <td>3</td>\n",
              "      <td>3</td>\n",
              "      <td>2</td>\n",
              "      <td>4</td>\n",
              "      <td>3</td>\n",
              "      <td>3</td>\n",
              "    </tr>\n",
              "    <tr>\n",
              "      <th>top</th>\n",
              "      <td>M</td>\n",
              "      <td>OBC</td>\n",
              "      <td>Good</td>\n",
              "      <td>Good</td>\n",
              "      <td>Vg</td>\n",
              "      <td>Good</td>\n",
              "      <td>N</td>\n",
              "      <td>Unmarried</td>\n",
              "      <td>V</td>\n",
              "      <td>Paid</td>\n",
              "      <td>...</td>\n",
              "      <td>Um</td>\n",
              "      <td>Um</td>\n",
              "      <td>Service</td>\n",
              "      <td>Housewife</td>\n",
              "      <td>Large</td>\n",
              "      <td>Average</td>\n",
              "      <td>Govt</td>\n",
              "      <td>Eng</td>\n",
              "      <td>Small</td>\n",
              "      <td>Good</td>\n",
              "    </tr>\n",
              "    <tr>\n",
              "      <th>freq</th>\n",
              "      <td>72</td>\n",
              "      <td>57</td>\n",
              "      <td>59</td>\n",
              "      <td>65</td>\n",
              "      <td>63</td>\n",
              "      <td>54</td>\n",
              "      <td>78</td>\n",
              "      <td>131</td>\n",
              "      <td>92</td>\n",
              "      <td>76</td>\n",
              "      <td>...</td>\n",
              "      <td>40</td>\n",
              "      <td>52</td>\n",
              "      <td>38</td>\n",
              "      <td>115</td>\n",
              "      <td>58</td>\n",
              "      <td>59</td>\n",
              "      <td>91</td>\n",
              "      <td>62</td>\n",
              "      <td>78</td>\n",
              "      <td>56</td>\n",
              "    </tr>\n",
              "  </tbody>\n",
              "</table>\n",
              "<p>4 rows × 22 columns</p>\n",
              "</div>\n",
              "      <button class=\"colab-df-convert\" onclick=\"convertToInteractive('df-879299cd-3ee6-441d-a661-e36d00bde15e')\"\n",
              "              title=\"Convert this dataframe to an interactive table.\"\n",
              "              style=\"display:none;\">\n",
              "        \n",
              "  <svg xmlns=\"http://www.w3.org/2000/svg\" height=\"24px\"viewBox=\"0 0 24 24\"\n",
              "       width=\"24px\">\n",
              "    <path d=\"M0 0h24v24H0V0z\" fill=\"none\"/>\n",
              "    <path d=\"M18.56 5.44l.94 2.06.94-2.06 2.06-.94-2.06-.94-.94-2.06-.94 2.06-2.06.94zm-11 1L8.5 8.5l.94-2.06 2.06-.94-2.06-.94L8.5 2.5l-.94 2.06-2.06.94zm10 10l.94 2.06.94-2.06 2.06-.94-2.06-.94-.94-2.06-.94 2.06-2.06.94z\"/><path d=\"M17.41 7.96l-1.37-1.37c-.4-.4-.92-.59-1.43-.59-.52 0-1.04.2-1.43.59L10.3 9.45l-7.72 7.72c-.78.78-.78 2.05 0 2.83L4 21.41c.39.39.9.59 1.41.59.51 0 1.02-.2 1.41-.59l7.78-7.78 2.81-2.81c.8-.78.8-2.07 0-2.86zM5.41 20L4 18.59l7.72-7.72 1.47 1.35L5.41 20z\"/>\n",
              "  </svg>\n",
              "      </button>\n",
              "      \n",
              "  <style>\n",
              "    .colab-df-container {\n",
              "      display:flex;\n",
              "      flex-wrap:wrap;\n",
              "      gap: 12px;\n",
              "    }\n",
              "\n",
              "    .colab-df-convert {\n",
              "      background-color: #E8F0FE;\n",
              "      border: none;\n",
              "      border-radius: 50%;\n",
              "      cursor: pointer;\n",
              "      display: none;\n",
              "      fill: #1967D2;\n",
              "      height: 32px;\n",
              "      padding: 0 0 0 0;\n",
              "      width: 32px;\n",
              "    }\n",
              "\n",
              "    .colab-df-convert:hover {\n",
              "      background-color: #E2EBFA;\n",
              "      box-shadow: 0px 1px 2px rgba(60, 64, 67, 0.3), 0px 1px 3px 1px rgba(60, 64, 67, 0.15);\n",
              "      fill: #174EA6;\n",
              "    }\n",
              "\n",
              "    [theme=dark] .colab-df-convert {\n",
              "      background-color: #3B4455;\n",
              "      fill: #D2E3FC;\n",
              "    }\n",
              "\n",
              "    [theme=dark] .colab-df-convert:hover {\n",
              "      background-color: #434B5C;\n",
              "      box-shadow: 0px 1px 3px 1px rgba(0, 0, 0, 0.15);\n",
              "      filter: drop-shadow(0px 1px 2px rgba(0, 0, 0, 0.3));\n",
              "      fill: #FFFFFF;\n",
              "    }\n",
              "  </style>\n",
              "\n",
              "      <script>\n",
              "        const buttonEl =\n",
              "          document.querySelector('#df-879299cd-3ee6-441d-a661-e36d00bde15e button.colab-df-convert');\n",
              "        buttonEl.style.display =\n",
              "          google.colab.kernel.accessAllowed ? 'block' : 'none';\n",
              "\n",
              "        async function convertToInteractive(key) {\n",
              "          const element = document.querySelector('#df-879299cd-3ee6-441d-a661-e36d00bde15e');\n",
              "          const dataTable =\n",
              "            await google.colab.kernel.invokeFunction('convertToInteractive',\n",
              "                                                     [key], {});\n",
              "          if (!dataTable) return;\n",
              "\n",
              "          const docLinkHtml = 'Like what you see? Visit the ' +\n",
              "            '<a target=\"_blank\" href=https://colab.research.google.com/notebooks/data_table.ipynb>data table notebook</a>'\n",
              "            + ' to learn more about interactive tables.';\n",
              "          element.innerHTML = '';\n",
              "          dataTable['output_type'] = 'display_data';\n",
              "          await google.colab.output.renderOutput(dataTable, element);\n",
              "          const docLink = document.createElement('div');\n",
              "          docLink.innerHTML = docLinkHtml;\n",
              "          element.appendChild(docLink);\n",
              "        }\n",
              "      </script>\n",
              "    </div>\n",
              "  </div>\n",
              "  "
            ]
          },
          "metadata": {},
          "execution_count": 51
        }
      ]
    },
    {
      "cell_type": "code",
      "source": [
        ""
      ],
      "metadata": {
        "id": "ha_zNYkF1gRs"
      },
      "execution_count": null,
      "outputs": []
    },
    {
      "cell_type": "code",
      "source": [
        "#question 2  No 2 we use pie chart to visualise the study hours\n",
        "import numpy as np\n",
        "import pandas as pd\n",
        "import matplotlib.pyplot as plt\n",
        "%matplotlib inline\n",
        "import seaborn as sns\n",
        "df = pd.read_csv('https://raw.githubusercontent.com/suthapalliuday/INFO5502-Summer2022/main/datasets/lab-assignment-04-student-performance.csv')\n",
        "df.groupby('sh').sh.count().plot(kind='pie')\n",
        "plt.show()\n",
        "\n",
        "df['atd'].describe()"
      ],
      "metadata": {
        "colab": {
          "base_uri": "https://localhost:8080/",
          "height": 335
        },
        "id": "t20iwPlJpMF4",
        "outputId": "1394801f-fbd4-4138-cbcb-4c5c4217891e"
      },
      "execution_count": 50,
      "outputs": [
        {
          "output_type": "display_data",
          "data": {
            "text/plain": [
              "<Figure size 432x288 with 1 Axes>"
            ],
            "image/png": "[encoded data removed]"
          },
          "metadata": {}
        },
        {
          "output_type": "execute_result",
          "data": {
            "text/plain": [
              "count      131\n",
              "unique       3\n",
              "top       Good\n",
              "freq        56\n",
              "Name: atd, dtype: object"
            ]
          },
          "metadata": {},
          "execution_count": 50
        }
      ]
    },
    {
      "cell_type": "code",
      "source": [
        "import seaborn as sns\n",
        "df['sh'] = df['sh'].replace(['Good', 'Average', 'Poor'], [8, 6, 4])\n",
        "df['esp'] = pd.Categorical(df['esp'], categories=[\"Pass\", \"Good\", \"Verygood\", \"Best\"], ordered=True)\n",
        "sns.catplot(x=\"esp\", y=\"sh\", kind='swarm', data=df, height=6, aspect=2)\n"
      ],
      "metadata": {
        "colab": {
          "base_uri": "https://localhost:8080/",
          "height": 458
        },
        "id": "I-_SSt7Hc7B6",
        "outputId": "3b6ba237-70b3-48a2-f5f1-e3e995efaa70"
      },
      "execution_count": 57,
      "outputs": [
        {
          "output_type": "execute_result",
          "data": {
            "text/plain": [
              "<seaborn.axisgrid.FacetGrid at 0x7f709a293910>"
            ]
          },
          "metadata": {},
          "execution_count": 57
        },
        {
          "output_type": "display_data",
          "data": {
            "text/plain": [
              "<Figure size 864x432 with 1 Axes>"
            ],
            "image/png": "[encoded data removed]"
          },
          "metadata": {
            "needs_background": "light"
          }
        }
      ]
    },
    {
      "cell_type": "code",
      "source": [
        "for col in df:\n",
        "  df[col] = pd.Categorical(df[col])\n",
        "  df[col] = df[col].cat.codes\n",
        "df = df.drop(columns=['ms'])\n",
        "df = df.corr()\n",
        "f, ax = plt.subplots(figsize=(20, 9)) \n",
        "sns.heatmap(data=df, annot=True, ax=ax) "
      ],
      "metadata": {
        "colab": {
          "base_uri": "https://localhost:8080/",
          "height": 558
        },
        "id": "KukMKisxdVlT",
        "outputId": "88d22a3b-d1aa-4462-e157-e3f824ccea5d"
      },
      "execution_count": 58,
      "outputs": [
        {
          "output_type": "execute_result",
          "data": {
            "text/plain": [
              "<matplotlib.axes._subplots.AxesSubplot at 0x7f709a2b2bd0>"
            ]
          },
          "metadata": {},
          "execution_count": 58
        },
        {
          "output_type": "display_data",
          "data": {
            "text/plain": [
              "<Figure size 1440x648 with 2 Axes>"
            ],
            "image/png": "[encoded data removed]"
          },
          "metadata": {
            "needs_background": "light"
          }
        }
      ]
    }
  ]
}